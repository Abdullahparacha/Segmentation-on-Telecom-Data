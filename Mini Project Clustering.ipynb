{
 "cells": [
  {
   "cell_type": "code",
   "execution_count": 2,
   "metadata": {},
   "outputs": [],
   "source": [
    "import pandas as pd\n",
    "import numpy as np\n",
    "from sklearn.cluster import KMeans\n",
    "from sklearn import metrics \n",
    "import matplotlib.pyplot as plt\n",
    "import seaborn as sns\n",
    "sns.set()\n",
    "%matplotlib inline\n"
   ]
  },
  {
   "cell_type": "code",
   "execution_count": 3,
   "metadata": {},
   "outputs": [],
   "source": [
    "import plotly\n",
    "plotly.tools.set_credentials_file(username='salman1127', api_key='kvVBOPH8QBqLKiDTYguH')\n",
    "import plotly.plotly as py\n",
    "import plotly.graph_objs as go"
   ]
  },
  {
   "cell_type": "code",
   "execution_count": 4,
   "metadata": {},
   "outputs": [],
   "source": [
    "#import excel file\n",
    "data = pd.read_excel(\"Sample_data.xlsx\", skipinitialspace=True)\n",
    "df=data.copy()"
   ]
  },
  {
   "cell_type": "markdown",
   "metadata": {},
   "source": [
    "<h4 style=\"color:red;\">Task1 : Some Basic Operations on Data Frame </h4>"
   ]
  },
  {
   "cell_type": "markdown",
   "metadata": {},
   "source": [
    "**Show first five record of data frame **"
   ]
  },
  {
   "cell_type": "code",
   "execution_count": 5,
   "metadata": {},
   "outputs": [
    {
     "data": {
      "text/html": [
       "<div>\n",
       "<style scoped>\n",
       "    .dataframe tbody tr th:only-of-type {\n",
       "        vertical-align: middle;\n",
       "    }\n",
       "\n",
       "    .dataframe tbody tr th {\n",
       "        vertical-align: top;\n",
       "    }\n",
       "\n",
       "    .dataframe thead th {\n",
       "        text-align: right;\n",
       "    }\n",
       "</style>\n",
       "<table border=\"1\" class=\"dataframe\">\n",
       "  <thead>\n",
       "    <tr style=\"text-align: right;\">\n",
       "      <th></th>\n",
       "      <th>Customer ID</th>\n",
       "      <th>U_OB_VC_CNT_T6</th>\n",
       "      <th>U_OB_VC_CC_CNT_T6</th>\n",
       "      <th>U_OB_VC_DUR_T6</th>\n",
       "      <th>U_OB_VC_REV_T6</th>\n",
       "      <th>U_OB_DAY_VC_CNT_T6</th>\n",
       "      <th>U_OB_DAY_VC_CC_CNT_T6</th>\n",
       "      <th>U_OB_DAY_VC_DUR_T6</th>\n",
       "      <th>U_OB_DAY_VC_REV_T6</th>\n",
       "      <th>U_OB_EVN_VC_CNT_T6</th>\n",
       "      <th>...</th>\n",
       "      <th>RECH_750_1000_AMT_T6</th>\n",
       "      <th>RECH_750_1000_CNT_T6</th>\n",
       "      <th>RECH_GT_1000_AMT_T6</th>\n",
       "      <th>RECH_GT_1000_CNT_T6</th>\n",
       "      <th>RECEIVE_AMT_T6</th>\n",
       "      <th>RECEIVE_CNT_T6</th>\n",
       "      <th>SHARE_AMT_T6</th>\n",
       "      <th>SHARE_CNT_T6</th>\n",
       "      <th>LOAN_AMT_T6</th>\n",
       "      <th>LOAN_CNT_T6</th>\n",
       "    </tr>\n",
       "  </thead>\n",
       "  <tbody>\n",
       "    <tr>\n",
       "      <th>NaN</th>\n",
       "      <td>1</td>\n",
       "      <td>157</td>\n",
       "      <td>88</td>\n",
       "      <td>379.0</td>\n",
       "      <td>230.070</td>\n",
       "      <td>103</td>\n",
       "      <td>62</td>\n",
       "      <td>207.0</td>\n",
       "      <td>128.794</td>\n",
       "      <td>51</td>\n",
       "      <td>...</td>\n",
       "      <td>0</td>\n",
       "      <td>0</td>\n",
       "      <td>0</td>\n",
       "      <td>0</td>\n",
       "      <td>0</td>\n",
       "      <td>0</td>\n",
       "      <td>0</td>\n",
       "      <td>0</td>\n",
       "      <td>45</td>\n",
       "      <td>3</td>\n",
       "    </tr>\n",
       "    <tr>\n",
       "      <th>NaN</th>\n",
       "      <td>2</td>\n",
       "      <td>41</td>\n",
       "      <td>38</td>\n",
       "      <td>132.5</td>\n",
       "      <td>137.276</td>\n",
       "      <td>17</td>\n",
       "      <td>14</td>\n",
       "      <td>65.0</td>\n",
       "      <td>77.824</td>\n",
       "      <td>23</td>\n",
       "      <td>...</td>\n",
       "      <td>0</td>\n",
       "      <td>0</td>\n",
       "      <td>0</td>\n",
       "      <td>0</td>\n",
       "      <td>25.523</td>\n",
       "      <td>1</td>\n",
       "      <td>0</td>\n",
       "      <td>0</td>\n",
       "      <td>60</td>\n",
       "      <td>4</td>\n",
       "    </tr>\n",
       "    <tr>\n",
       "      <th>NaN</th>\n",
       "      <td>3</td>\n",
       "      <td>321</td>\n",
       "      <td>185</td>\n",
       "      <td>274.5</td>\n",
       "      <td>98.422</td>\n",
       "      <td>249</td>\n",
       "      <td>150</td>\n",
       "      <td>204.0</td>\n",
       "      <td>49.151</td>\n",
       "      <td>69</td>\n",
       "      <td>...</td>\n",
       "      <td>0</td>\n",
       "      <td>0</td>\n",
       "      <td>0</td>\n",
       "      <td>0</td>\n",
       "      <td>0</td>\n",
       "      <td>0</td>\n",
       "      <td>0</td>\n",
       "      <td>0</td>\n",
       "      <td>0</td>\n",
       "      <td>0</td>\n",
       "    </tr>\n",
       "    <tr>\n",
       "      <th>NaN</th>\n",
       "      <td>4</td>\n",
       "      <td>11</td>\n",
       "      <td>6</td>\n",
       "      <td>172.5</td>\n",
       "      <td>7.587</td>\n",
       "      <td>1</td>\n",
       "      <td>1</td>\n",
       "      <td>2.0</td>\n",
       "      <td>0.149</td>\n",
       "      <td>10</td>\n",
       "      <td>...</td>\n",
       "      <td>0</td>\n",
       "      <td>0</td>\n",
       "      <td>0</td>\n",
       "      <td>0</td>\n",
       "      <td>0</td>\n",
       "      <td>0</td>\n",
       "      <td>0</td>\n",
       "      <td>0</td>\n",
       "      <td>0</td>\n",
       "      <td>0</td>\n",
       "    </tr>\n",
       "    <tr>\n",
       "      <th>NaN</th>\n",
       "      <td>5</td>\n",
       "      <td>313</td>\n",
       "      <td>220</td>\n",
       "      <td>2888.0</td>\n",
       "      <td>52.915</td>\n",
       "      <td>170</td>\n",
       "      <td>131</td>\n",
       "      <td>791.0</td>\n",
       "      <td>29.699</td>\n",
       "      <td>132</td>\n",
       "      <td>...</td>\n",
       "      <td>0</td>\n",
       "      <td>0</td>\n",
       "      <td>0</td>\n",
       "      <td>0</td>\n",
       "      <td>0</td>\n",
       "      <td>0</td>\n",
       "      <td>0</td>\n",
       "      <td>0</td>\n",
       "      <td>15</td>\n",
       "      <td>1</td>\n",
       "    </tr>\n",
       "  </tbody>\n",
       "</table>\n",
       "<p>5 rows × 474 columns</p>\n",
       "</div>"
      ],
      "text/plain": [
       "     Customer ID  U_OB_VC_CNT_T6  U_OB_VC_CC_CNT_T6  U_OB_VC_DUR_T6  \\\n",
       "NaN            1             157                 88           379.0   \n",
       "NaN            2              41                 38           132.5   \n",
       "NaN            3             321                185           274.5   \n",
       "NaN            4              11                  6           172.5   \n",
       "NaN            5             313                220          2888.0   \n",
       "\n",
       "     U_OB_VC_REV_T6  U_OB_DAY_VC_CNT_T6  U_OB_DAY_VC_CC_CNT_T6  \\\n",
       "NaN         230.070                 103                     62   \n",
       "NaN         137.276                  17                     14   \n",
       "NaN          98.422                 249                    150   \n",
       "NaN           7.587                   1                      1   \n",
       "NaN          52.915                 170                    131   \n",
       "\n",
       "     U_OB_DAY_VC_DUR_T6  U_OB_DAY_VC_REV_T6  U_OB_EVN_VC_CNT_T6     ...       \\\n",
       "NaN               207.0             128.794                  51     ...        \n",
       "NaN                65.0              77.824                  23     ...        \n",
       "NaN               204.0              49.151                  69     ...        \n",
       "NaN                 2.0               0.149                  10     ...        \n",
       "NaN               791.0              29.699                 132     ...        \n",
       "\n",
       "     RECH_750_1000_AMT_T6  RECH_750_1000_CNT_T6  RECH_GT_1000_AMT_T6  \\\n",
       "NaN                     0                     0                    0   \n",
       "NaN                     0                     0                    0   \n",
       "NaN                     0                     0                    0   \n",
       "NaN                     0                     0                    0   \n",
       "NaN                     0                     0                    0   \n",
       "\n",
       "     RECH_GT_1000_CNT_T6  RECEIVE_AMT_T6  RECEIVE_CNT_T6  SHARE_AMT_T6  \\\n",
       "NaN                    0               0               0             0   \n",
       "NaN                    0          25.523               1             0   \n",
       "NaN                    0               0               0             0   \n",
       "NaN                    0               0               0             0   \n",
       "NaN                    0               0               0             0   \n",
       "\n",
       "     SHARE_CNT_T6  LOAN_AMT_T6  LOAN_CNT_T6  \n",
       "NaN             0           45            3  \n",
       "NaN             0           60            4  \n",
       "NaN             0            0            0  \n",
       "NaN             0            0            0  \n",
       "NaN             0           15            1  \n",
       "\n",
       "[5 rows x 474 columns]"
      ]
     },
     "execution_count": 5,
     "metadata": {},
     "output_type": "execute_result"
    }
   ],
   "source": [
    "df.head()"
   ]
  },
  {
   "cell_type": "code",
   "execution_count": 6,
   "metadata": {},
   "outputs": [],
   "source": [
    "df.reset_index(drop=True, inplace=True)"
   ]
  },
  {
   "cell_type": "markdown",
   "metadata": {},
   "source": [
    "**Show last five record of data frame **"
   ]
  },
  {
   "cell_type": "code",
   "execution_count": 7,
   "metadata": {},
   "outputs": [
    {
     "data": {
      "text/html": [
       "<div>\n",
       "<style scoped>\n",
       "    .dataframe tbody tr th:only-of-type {\n",
       "        vertical-align: middle;\n",
       "    }\n",
       "\n",
       "    .dataframe tbody tr th {\n",
       "        vertical-align: top;\n",
       "    }\n",
       "\n",
       "    .dataframe thead th {\n",
       "        text-align: right;\n",
       "    }\n",
       "</style>\n",
       "<table border=\"1\" class=\"dataframe\">\n",
       "  <thead>\n",
       "    <tr style=\"text-align: right;\">\n",
       "      <th></th>\n",
       "      <th>Customer ID</th>\n",
       "      <th>U_OB_VC_CNT_T6</th>\n",
       "      <th>U_OB_VC_CC_CNT_T6</th>\n",
       "      <th>U_OB_VC_DUR_T6</th>\n",
       "      <th>U_OB_VC_REV_T6</th>\n",
       "      <th>U_OB_DAY_VC_CNT_T6</th>\n",
       "      <th>U_OB_DAY_VC_CC_CNT_T6</th>\n",
       "      <th>U_OB_DAY_VC_DUR_T6</th>\n",
       "      <th>U_OB_DAY_VC_REV_T6</th>\n",
       "      <th>U_OB_EVN_VC_CNT_T6</th>\n",
       "      <th>...</th>\n",
       "      <th>RECH_750_1000_AMT_T6</th>\n",
       "      <th>RECH_750_1000_CNT_T6</th>\n",
       "      <th>RECH_GT_1000_AMT_T6</th>\n",
       "      <th>RECH_GT_1000_CNT_T6</th>\n",
       "      <th>RECEIVE_AMT_T6</th>\n",
       "      <th>RECEIVE_CNT_T6</th>\n",
       "      <th>SHARE_AMT_T6</th>\n",
       "      <th>SHARE_CNT_T6</th>\n",
       "      <th>LOAN_AMT_T6</th>\n",
       "      <th>LOAN_CNT_T6</th>\n",
       "    </tr>\n",
       "  </thead>\n",
       "  <tbody>\n",
       "    <tr>\n",
       "      <th>95</th>\n",
       "      <td>96</td>\n",
       "      <td>210</td>\n",
       "      <td>96</td>\n",
       "      <td>863.0</td>\n",
       "      <td>37.825</td>\n",
       "      <td>65</td>\n",
       "      <td>42</td>\n",
       "      <td>216.0</td>\n",
       "      <td>9.710</td>\n",
       "      <td>128</td>\n",
       "      <td>...</td>\n",
       "      <td>0</td>\n",
       "      <td>0</td>\n",
       "      <td>0</td>\n",
       "      <td>0</td>\n",
       "      <td>0</td>\n",
       "      <td>0</td>\n",
       "      <td>0</td>\n",
       "      <td>0</td>\n",
       "      <td>90</td>\n",
       "      <td>6</td>\n",
       "    </tr>\n",
       "    <tr>\n",
       "      <th>96</th>\n",
       "      <td>97</td>\n",
       "      <td>30</td>\n",
       "      <td>26</td>\n",
       "      <td>326.0</td>\n",
       "      <td>45.349</td>\n",
       "      <td>23</td>\n",
       "      <td>21</td>\n",
       "      <td>169.0</td>\n",
       "      <td>42.152</td>\n",
       "      <td>4</td>\n",
       "      <td>...</td>\n",
       "      <td>0</td>\n",
       "      <td>0</td>\n",
       "      <td>0</td>\n",
       "      <td>0</td>\n",
       "      <td>0</td>\n",
       "      <td>0</td>\n",
       "      <td>0</td>\n",
       "      <td>0</td>\n",
       "      <td>0</td>\n",
       "      <td>0</td>\n",
       "    </tr>\n",
       "    <tr>\n",
       "      <th>97</th>\n",
       "      <td>98</td>\n",
       "      <td>10</td>\n",
       "      <td>6</td>\n",
       "      <td>226.0</td>\n",
       "      <td>1.495</td>\n",
       "      <td>5</td>\n",
       "      <td>2</td>\n",
       "      <td>82.0</td>\n",
       "      <td>0.747</td>\n",
       "      <td>4</td>\n",
       "      <td>...</td>\n",
       "      <td>0</td>\n",
       "      <td>0</td>\n",
       "      <td>0</td>\n",
       "      <td>0</td>\n",
       "      <td>0</td>\n",
       "      <td>0</td>\n",
       "      <td>0</td>\n",
       "      <td>0</td>\n",
       "      <td>15</td>\n",
       "      <td>1</td>\n",
       "    </tr>\n",
       "    <tr>\n",
       "      <th>98</th>\n",
       "      <td>99</td>\n",
       "      <td>194</td>\n",
       "      <td>72</td>\n",
       "      <td>296.0</td>\n",
       "      <td>176.593</td>\n",
       "      <td>30</td>\n",
       "      <td>19</td>\n",
       "      <td>33.0</td>\n",
       "      <td>20.677</td>\n",
       "      <td>133</td>\n",
       "      <td>...</td>\n",
       "      <td>0</td>\n",
       "      <td>0</td>\n",
       "      <td>0</td>\n",
       "      <td>0</td>\n",
       "      <td>0</td>\n",
       "      <td>0</td>\n",
       "      <td>0</td>\n",
       "      <td>0</td>\n",
       "      <td>15</td>\n",
       "      <td>1</td>\n",
       "    </tr>\n",
       "    <tr>\n",
       "      <th>99</th>\n",
       "      <td>100</td>\n",
       "      <td>146</td>\n",
       "      <td>36</td>\n",
       "      <td>1250.0</td>\n",
       "      <td>51.714</td>\n",
       "      <td>73</td>\n",
       "      <td>25</td>\n",
       "      <td>579.0</td>\n",
       "      <td>28.000</td>\n",
       "      <td>71</td>\n",
       "      <td>...</td>\n",
       "      <td>0</td>\n",
       "      <td>0</td>\n",
       "      <td>0</td>\n",
       "      <td>0</td>\n",
       "      <td>0</td>\n",
       "      <td>0</td>\n",
       "      <td>0</td>\n",
       "      <td>0</td>\n",
       "      <td>75</td>\n",
       "      <td>5</td>\n",
       "    </tr>\n",
       "  </tbody>\n",
       "</table>\n",
       "<p>5 rows × 474 columns</p>\n",
       "</div>"
      ],
      "text/plain": [
       "    Customer ID  U_OB_VC_CNT_T6  U_OB_VC_CC_CNT_T6  U_OB_VC_DUR_T6  \\\n",
       "95           96             210                 96           863.0   \n",
       "96           97              30                 26           326.0   \n",
       "97           98              10                  6           226.0   \n",
       "98           99             194                 72           296.0   \n",
       "99          100             146                 36          1250.0   \n",
       "\n",
       "    U_OB_VC_REV_T6  U_OB_DAY_VC_CNT_T6  U_OB_DAY_VC_CC_CNT_T6  \\\n",
       "95          37.825                  65                     42   \n",
       "96          45.349                  23                     21   \n",
       "97           1.495                   5                      2   \n",
       "98         176.593                  30                     19   \n",
       "99          51.714                  73                     25   \n",
       "\n",
       "    U_OB_DAY_VC_DUR_T6  U_OB_DAY_VC_REV_T6  U_OB_EVN_VC_CNT_T6     ...       \\\n",
       "95               216.0               9.710                 128     ...        \n",
       "96               169.0              42.152                   4     ...        \n",
       "97                82.0               0.747                   4     ...        \n",
       "98                33.0              20.677                 133     ...        \n",
       "99               579.0              28.000                  71     ...        \n",
       "\n",
       "    RECH_750_1000_AMT_T6  RECH_750_1000_CNT_T6  RECH_GT_1000_AMT_T6  \\\n",
       "95                     0                     0                    0   \n",
       "96                     0                     0                    0   \n",
       "97                     0                     0                    0   \n",
       "98                     0                     0                    0   \n",
       "99                     0                     0                    0   \n",
       "\n",
       "    RECH_GT_1000_CNT_T6  RECEIVE_AMT_T6  RECEIVE_CNT_T6  SHARE_AMT_T6  \\\n",
       "95                    0               0               0             0   \n",
       "96                    0               0               0             0   \n",
       "97                    0               0               0             0   \n",
       "98                    0               0               0             0   \n",
       "99                    0               0               0             0   \n",
       "\n",
       "    SHARE_CNT_T6  LOAN_AMT_T6  LOAN_CNT_T6  \n",
       "95             0           90            6  \n",
       "96             0            0            0  \n",
       "97             0           15            1  \n",
       "98             0           15            1  \n",
       "99             0           75            5  \n",
       "\n",
       "[5 rows x 474 columns]"
      ]
     },
     "execution_count": 7,
     "metadata": {},
     "output_type": "execute_result"
    }
   ],
   "source": [
    "df.tail()"
   ]
  },
  {
   "cell_type": "markdown",
   "metadata": {},
   "source": [
    "**Show shape of the data frame **"
   ]
  },
  {
   "cell_type": "code",
   "execution_count": 8,
   "metadata": {},
   "outputs": [
    {
     "data": {
      "text/plain": [
       "(100, 474)"
      ]
     },
     "execution_count": 8,
     "metadata": {},
     "output_type": "execute_result"
    }
   ],
   "source": [
    "df.shape"
   ]
  },
  {
   "cell_type": "code",
   "execution_count": 9,
   "metadata": {},
   "outputs": [
    {
     "data": {
      "text/plain": [
       "Index(['Customer ID', 'U_OB_VC_CNT_T6', 'U_OB_VC_CC_CNT_T6', 'U_OB_VC_DUR_T6',\n",
       "       'U_OB_VC_REV_T6', 'U_OB_DAY_VC_CNT_T6', 'U_OB_DAY_VC_CC_CNT_T6',\n",
       "       'U_OB_DAY_VC_DUR_T6', 'U_OB_DAY_VC_REV_T6', 'U_OB_EVN_VC_CNT_T6',\n",
       "       ...\n",
       "       'RECH_750_1000_AMT_T6', 'RECH_750_1000_CNT_T6', 'RECH_GT_1000_AMT_T6',\n",
       "       'RECH_GT_1000_CNT_T6', 'RECEIVE_AMT_T6', 'RECEIVE_CNT_T6',\n",
       "       'SHARE_AMT_T6', 'SHARE_CNT_T6', 'LOAN_AMT_T6', 'LOAN_CNT_T6'],\n",
       "      dtype='object', length=474)"
      ]
     },
     "execution_count": 9,
     "metadata": {},
     "output_type": "execute_result"
    }
   ],
   "source": [
    "df.columns"
   ]
  },
  {
   "cell_type": "markdown",
   "metadata": {},
   "source": [
    "**Calculate the sum of null values against each column **"
   ]
  },
  {
   "cell_type": "code",
   "execution_count": 10,
   "metadata": {},
   "outputs": [
    {
     "data": {
      "text/plain": [
       "Customer ID                  0\n",
       "U_OB_VC_CNT_T6               0\n",
       "U_OB_VC_CC_CNT_T6            0\n",
       "U_OB_VC_DUR_T6               0\n",
       "U_OB_VC_REV_T6               0\n",
       "U_OB_DAY_VC_CNT_T6           0\n",
       "U_OB_DAY_VC_CC_CNT_T6        0\n",
       "U_OB_DAY_VC_DUR_T6           0\n",
       "U_OB_DAY_VC_REV_T6           0\n",
       "U_OB_EVN_VC_CNT_T6           0\n",
       "U_OB_EVN_VC_CC_CNT_T6        0\n",
       "U_OB_EVN_VC_DUR_T6           0\n",
       "U_OB_EVN_VC_REV_T6           0\n",
       "U_OB_NGT_VC_CNT_T6           0\n",
       "U_OB_NGT_VC_CC_CNT_T6        0\n",
       "U_OB_NGT_VC_DUR_T6           0\n",
       "U_OB_NGT_VC_REV_T6           0\n",
       "U_OB_PEAK_VC_CNT_T6          0\n",
       "U_OB_PEAK_VC_CC_CNT_T6       0\n",
       "U_OB_PEAK_VC_DUR_T6          0\n",
       "U_OB_PEAK_VC_REV_T6          0\n",
       "U_OB_OFFPEAK_VC_CNT_T6       0\n",
       "U_OB_OFFPEAK_VC_CC_CNT_T6    0\n",
       "U_OB_OFFPEAK_VC_DUR_T6       0\n",
       "U_OB_OFFPEAK_VC_REV_T6       0\n",
       "U_OB_H_VC_CNT_T6             0\n",
       "U_OB_H_VC_CC_CNT_T6          0\n",
       "U_OB_H_VC_DUR_T6             0\n",
       "U_OB_H_VC_REV_T6             0\n",
       "U_OB_W_VC_CNT_T6             0\n",
       "                            ..\n",
       "RECH_VOUCHER_AMT_T6          0\n",
       "RECH_VOUCHER_CNT_T6          0\n",
       "RECH_OTHER_AMT_T6            0\n",
       "RECH_OTHER_CNT_T6            0\n",
       "RECH_0_50_AMT_T6             0\n",
       "RECH_0_50_CNT_T6             0\n",
       "RECH_50_100_AMT_T6           0\n",
       "RECH_50_100_CNT_T6           0\n",
       "RECH_100_150_AMT_T6          0\n",
       "RECH_100_150_CNT_T6          0\n",
       "RECH_150_200_AMT_T6          0\n",
       "RECH_150_200_CNT_T6          0\n",
       "RECH_200_250_AMT_T6          0\n",
       "RECH_200_250_CNT_T6          0\n",
       "RECH_250_300_AMT_T6          0\n",
       "RECH_250_300_CNT_T6          0\n",
       "RECH_300_500_AMT_T6          0\n",
       "RECH_300_500_CNT_T6          0\n",
       "RECH_500_750_AMT_T6          0\n",
       "RECH_500_750_CNT_T6          0\n",
       "RECH_750_1000_AMT_T6         0\n",
       "RECH_750_1000_CNT_T6         0\n",
       "RECH_GT_1000_AMT_T6          0\n",
       "RECH_GT_1000_CNT_T6          0\n",
       "RECEIVE_AMT_T6               0\n",
       "RECEIVE_CNT_T6               0\n",
       "SHARE_AMT_T6                 0\n",
       "SHARE_CNT_T6                 0\n",
       "LOAN_AMT_T6                  0\n",
       "LOAN_CNT_T6                  0\n",
       "Length: 474, dtype: int64"
      ]
     },
     "execution_count": 10,
     "metadata": {},
     "output_type": "execute_result"
    }
   ],
   "source": [
    "df.isnull().sum()"
   ]
  },
  {
   "cell_type": "markdown",
   "metadata": {},
   "source": [
    "**Fill up null values with 0, all nan and ? values**"
   ]
  },
  {
   "cell_type": "code",
   "execution_count": 11,
   "metadata": {},
   "outputs": [],
   "source": [
    "df = df.fillna(0)"
   ]
  },
  {
   "cell_type": "code",
   "execution_count": 12,
   "metadata": {},
   "outputs": [],
   "source": [
    "#df[df.loc[:, 'RECH_AMT_T6':]].str.replace('?', np.nan, inplace=True)\n",
    "#df.replace('?', np.nan, inplace=True)\n"
   ]
  },
  {
   "cell_type": "markdown",
   "metadata": {},
   "source": [
    "**Convert object columns data type to integer or float **"
   ]
  },
  {
   "cell_type": "code",
   "execution_count": 13,
   "metadata": {
    "scrolled": true
   },
   "outputs": [],
   "source": [
    "df = df.apply(pd.to_numeric, errors='coerce')"
   ]
  },
  {
   "cell_type": "code",
   "execution_count": 14,
   "metadata": {},
   "outputs": [
    {
     "data": {
      "text/plain": [
       "Customer ID            int64\n",
       "U_OB_VC_CNT_T6         int64\n",
       "U_OB_VC_CC_CNT_T6      int64\n",
       "U_OB_VC_DUR_T6       float64\n",
       "U_OB_VC_REV_T6       float64\n",
       "dtype: object"
      ]
     },
     "execution_count": 14,
     "metadata": {},
     "output_type": "execute_result"
    }
   ],
   "source": [
    "df.dtypes.head()"
   ]
  },
  {
   "cell_type": "markdown",
   "metadata": {},
   "source": [
    "<h4 style=\"color:red;\">Task 2 : Perform Exploratory Data Analysis on Voice Calls </h4>"
   ]
  },
  {
   "cell_type": "markdown",
   "metadata": {},
   "source": [
    "For example look at these\n",
    " - VC Count \n",
    " - VC Revenue \n",
    " - VC Day\n",
    " - VC Evening \n",
    " - VC Night \n",
    " - VC Peak \n",
    " - VC Off Peak"
   ]
  },
  {
   "cell_type": "code",
   "execution_count": 15,
   "metadata": {},
   "outputs": [
    {
     "data": {
      "text/plain": [
       "309"
      ]
     },
     "execution_count": 15,
     "metadata": {},
     "output_type": "execute_result"
    }
   ],
   "source": [
    "df.columns.str.contains('VC').sum()"
   ]
  },
  {
   "cell_type": "code",
   "execution_count": 16,
   "metadata": {},
   "outputs": [
    {
     "data": {
      "text/html": [
       "<div>\n",
       "<style scoped>\n",
       "    .dataframe tbody tr th:only-of-type {\n",
       "        vertical-align: middle;\n",
       "    }\n",
       "\n",
       "    .dataframe tbody tr th {\n",
       "        vertical-align: top;\n",
       "    }\n",
       "\n",
       "    .dataframe thead th {\n",
       "        text-align: right;\n",
       "    }\n",
       "</style>\n",
       "<table border=\"1\" class=\"dataframe\">\n",
       "  <thead>\n",
       "    <tr style=\"text-align: right;\">\n",
       "      <th></th>\n",
       "      <th>U_OB_VC_CNT_T6</th>\n",
       "      <th>U_OB_VC_REV_T6</th>\n",
       "      <th>U_OB_DAY_VC_CNT_T6</th>\n",
       "      <th>U_OB_EVN_VC_CNT_T6</th>\n",
       "      <th>U_OB_NGT_VC_CNT_T6</th>\n",
       "      <th>U_OB_PEAK_VC_CNT_T6</th>\n",
       "      <th>U_OB_OFFPEAK_VC_CNT_T6</th>\n",
       "    </tr>\n",
       "  </thead>\n",
       "  <tbody>\n",
       "    <tr>\n",
       "      <th>0</th>\n",
       "      <td>157</td>\n",
       "      <td>230.070</td>\n",
       "      <td>103</td>\n",
       "      <td>51</td>\n",
       "      <td>3</td>\n",
       "      <td>26</td>\n",
       "      <td>131</td>\n",
       "    </tr>\n",
       "    <tr>\n",
       "      <th>1</th>\n",
       "      <td>41</td>\n",
       "      <td>137.276</td>\n",
       "      <td>17</td>\n",
       "      <td>23</td>\n",
       "      <td>1</td>\n",
       "      <td>11</td>\n",
       "      <td>30</td>\n",
       "    </tr>\n",
       "    <tr>\n",
       "      <th>2</th>\n",
       "      <td>321</td>\n",
       "      <td>98.422</td>\n",
       "      <td>249</td>\n",
       "      <td>69</td>\n",
       "      <td>3</td>\n",
       "      <td>40</td>\n",
       "      <td>281</td>\n",
       "    </tr>\n",
       "    <tr>\n",
       "      <th>3</th>\n",
       "      <td>11</td>\n",
       "      <td>7.587</td>\n",
       "      <td>1</td>\n",
       "      <td>10</td>\n",
       "      <td>0</td>\n",
       "      <td>8</td>\n",
       "      <td>3</td>\n",
       "    </tr>\n",
       "    <tr>\n",
       "      <th>4</th>\n",
       "      <td>313</td>\n",
       "      <td>52.915</td>\n",
       "      <td>170</td>\n",
       "      <td>132</td>\n",
       "      <td>11</td>\n",
       "      <td>92</td>\n",
       "      <td>221</td>\n",
       "    </tr>\n",
       "  </tbody>\n",
       "</table>\n",
       "</div>"
      ],
      "text/plain": [
       "   U_OB_VC_CNT_T6  U_OB_VC_REV_T6  U_OB_DAY_VC_CNT_T6  U_OB_EVN_VC_CNT_T6  \\\n",
       "0             157         230.070                 103                  51   \n",
       "1              41         137.276                  17                  23   \n",
       "2             321          98.422                 249                  69   \n",
       "3              11           7.587                   1                  10   \n",
       "4             313          52.915                 170                 132   \n",
       "\n",
       "   U_OB_NGT_VC_CNT_T6  U_OB_PEAK_VC_CNT_T6  U_OB_OFFPEAK_VC_CNT_T6  \n",
       "0                   3                   26                     131  \n",
       "1                   1                   11                      30  \n",
       "2                   3                   40                     281  \n",
       "3                   0                    8                       3  \n",
       "4                  11                   92                     221  "
      ]
     },
     "execution_count": 16,
     "metadata": {},
     "output_type": "execute_result"
    }
   ],
   "source": [
    "VC = df[['U_OB_VC_CNT_T6', 'U_OB_VC_REV_T6', 'U_OB_DAY_VC_CNT_T6', 'U_OB_EVN_VC_CNT_T6', 'U_OB_NGT_VC_CNT_T6', 'U_OB_PEAK_VC_CNT_T6', 'U_OB_OFFPEAK_VC_CNT_T6']]\n",
    "VC.head()\n"
   ]
  },
  {
   "cell_type": "code",
   "execution_count": 17,
   "metadata": {},
   "outputs": [
    {
     "data": {
      "text/plain": [
       "20205"
      ]
     },
     "execution_count": 17,
     "metadata": {},
     "output_type": "execute_result"
    }
   ],
   "source": [
    "df['U_OB_VC_CNT_T6'].sum()"
   ]
  },
  {
   "cell_type": "code",
   "execution_count": 18,
   "metadata": {},
   "outputs": [
    {
     "data": {
      "text/plain": [
       "14011.762000000002"
      ]
     },
     "execution_count": 18,
     "metadata": {},
     "output_type": "execute_result"
    }
   ],
   "source": [
    "df['U_OB_VC_REV_T6'].sum()"
   ]
  },
  {
   "cell_type": "code",
   "execution_count": 19,
   "metadata": {},
   "outputs": [
    {
     "data": {
      "text/plain": [
       "11162"
      ]
     },
     "execution_count": 19,
     "metadata": {},
     "output_type": "execute_result"
    }
   ],
   "source": [
    "df['U_OB_DAY_VC_CNT_T6'].sum()"
   ]
  },
  {
   "cell_type": "code",
   "execution_count": 20,
   "metadata": {},
   "outputs": [
    {
     "data": {
      "text/plain": [
       "7355"
      ]
     },
     "execution_count": 20,
     "metadata": {},
     "output_type": "execute_result"
    }
   ],
   "source": [
    "df['U_OB_EVN_VC_CNT_T6'].sum()"
   ]
  },
  {
   "cell_type": "code",
   "execution_count": 21,
   "metadata": {},
   "outputs": [
    {
     "data": {
      "text/plain": [
       "1688"
      ]
     },
     "execution_count": 21,
     "metadata": {},
     "output_type": "execute_result"
    }
   ],
   "source": [
    "df['U_OB_NGT_VC_CNT_T6'].sum()"
   ]
  },
  {
   "cell_type": "code",
   "execution_count": 22,
   "metadata": {},
   "outputs": [
    {
     "data": {
      "text/plain": [
       "3896"
      ]
     },
     "execution_count": 22,
     "metadata": {},
     "output_type": "execute_result"
    }
   ],
   "source": [
    "df['U_OB_PEAK_VC_CNT_T6'].sum()"
   ]
  },
  {
   "cell_type": "code",
   "execution_count": 23,
   "metadata": {},
   "outputs": [
    {
     "data": {
      "text/plain": [
       "16309"
      ]
     },
     "execution_count": 23,
     "metadata": {},
     "output_type": "execute_result"
    }
   ],
   "source": [
    "df['U_OB_OFFPEAK_VC_CNT_T6'].sum()"
   ]
  },
  {
   "cell_type": "code",
   "execution_count": 24,
   "metadata": {},
   "outputs": [
    {
     "data": {
      "text/html": [
       "<div>\n",
       "<style scoped>\n",
       "    .dataframe tbody tr th:only-of-type {\n",
       "        vertical-align: middle;\n",
       "    }\n",
       "\n",
       "    .dataframe tbody tr th {\n",
       "        vertical-align: top;\n",
       "    }\n",
       "\n",
       "    .dataframe thead th {\n",
       "        text-align: right;\n",
       "    }\n",
       "</style>\n",
       "<table border=\"1\" class=\"dataframe\">\n",
       "  <thead>\n",
       "    <tr style=\"text-align: right;\">\n",
       "      <th></th>\n",
       "      <th>index</th>\n",
       "      <th>0</th>\n",
       "    </tr>\n",
       "  </thead>\n",
       "  <tbody>\n",
       "    <tr>\n",
       "      <th>0</th>\n",
       "      <td>U_OB_DAY_VC_CNT_T6</td>\n",
       "      <td>11162</td>\n",
       "    </tr>\n",
       "    <tr>\n",
       "      <th>1</th>\n",
       "      <td>U_OB_EVN_VC_CNT_T6</td>\n",
       "      <td>7355</td>\n",
       "    </tr>\n",
       "    <tr>\n",
       "      <th>2</th>\n",
       "      <td>U_OB_NGT_VC_CNT_T6</td>\n",
       "      <td>1688</td>\n",
       "    </tr>\n",
       "  </tbody>\n",
       "</table>\n",
       "</div>"
      ],
      "text/plain": [
       "                index      0\n",
       "0  U_OB_DAY_VC_CNT_T6  11162\n",
       "1  U_OB_EVN_VC_CNT_T6   7355\n",
       "2  U_OB_NGT_VC_CNT_T6   1688"
      ]
     },
     "execution_count": 24,
     "metadata": {},
     "output_type": "execute_result"
    }
   ],
   "source": [
    "vc = df[['U_OB_DAY_VC_CNT_T6', 'U_OB_EVN_VC_CNT_T6', 'U_OB_NGT_VC_CNT_T6']].sum()\n",
    "vc_df = pd.DataFrame(vc).reset_index()\n",
    "vc_df"
   ]
  },
  {
   "cell_type": "code",
   "execution_count": 25,
   "metadata": {},
   "outputs": [
    {
     "data": {
      "image/png": "[encoded data removed]",
      "text/plain": [
       "<Figure size 720x360 with 1 Axes>"
      ]
     },
     "metadata": {
      "needs_background": "light"
     },
     "output_type": "display_data"
    }
   ],
   "source": [
    "plt.figure(figsize=(10,5))\n",
    "sns.barplot(x='index', y=0, data=vc_df);\n"
   ]
  },
  {
   "cell_type": "markdown",
   "metadata": {},
   "source": [
    "<h4 style=\"color:red;\">Task 3 : Perform Exploratory Data Analysis on SMS </h4>"
   ]
  },
  {
   "cell_type": "markdown",
   "metadata": {},
   "source": [
    "For example look at these\n",
    " - SMS Count \n",
    " - SMS Revenue \n",
    " - SMS Day\n",
    " - SMS Evening \n",
    " - SMS Night "
   ]
  },
  {
   "cell_type": "code",
   "execution_count": 26,
   "metadata": {},
   "outputs": [
    {
     "data": {
      "text/plain": [
       "68"
      ]
     },
     "execution_count": 26,
     "metadata": {},
     "output_type": "execute_result"
    }
   ],
   "source": [
    "df.columns.str.contains('SMS').sum()\n"
   ]
  },
  {
   "cell_type": "code",
   "execution_count": 27,
   "metadata": {},
   "outputs": [
    {
     "data": {
      "text/html": [
       "<div>\n",
       "<style scoped>\n",
       "    .dataframe tbody tr th:only-of-type {\n",
       "        vertical-align: middle;\n",
       "    }\n",
       "\n",
       "    .dataframe tbody tr th {\n",
       "        vertical-align: top;\n",
       "    }\n",
       "\n",
       "    .dataframe thead th {\n",
       "        text-align: right;\n",
       "    }\n",
       "</style>\n",
       "<table border=\"1\" class=\"dataframe\">\n",
       "  <thead>\n",
       "    <tr style=\"text-align: right;\">\n",
       "      <th></th>\n",
       "      <th>U_OB_SMS_CNT_T6</th>\n",
       "      <th>U_OB_SMS_REV_T6</th>\n",
       "      <th>U_OB_DAY_SMS_CNT_T6</th>\n",
       "      <th>U_OB_EVN_SMS_CNT_T6</th>\n",
       "      <th>U_OB_NGT_SMS_CNT_T6</th>\n",
       "    </tr>\n",
       "  </thead>\n",
       "  <tbody>\n",
       "    <tr>\n",
       "      <th>0</th>\n",
       "      <td>0</td>\n",
       "      <td>0.000</td>\n",
       "      <td>0</td>\n",
       "      <td>0</td>\n",
       "      <td>0</td>\n",
       "    </tr>\n",
       "    <tr>\n",
       "      <th>1</th>\n",
       "      <td>586</td>\n",
       "      <td>2.868</td>\n",
       "      <td>312</td>\n",
       "      <td>244</td>\n",
       "      <td>30</td>\n",
       "    </tr>\n",
       "    <tr>\n",
       "      <th>2</th>\n",
       "      <td>2</td>\n",
       "      <td>6.931</td>\n",
       "      <td>0</td>\n",
       "      <td>1</td>\n",
       "      <td>1</td>\n",
       "    </tr>\n",
       "    <tr>\n",
       "      <th>3</th>\n",
       "      <td>0</td>\n",
       "      <td>0.000</td>\n",
       "      <td>0</td>\n",
       "      <td>0</td>\n",
       "      <td>0</td>\n",
       "    </tr>\n",
       "    <tr>\n",
       "      <th>4</th>\n",
       "      <td>189</td>\n",
       "      <td>0.000</td>\n",
       "      <td>83</td>\n",
       "      <td>91</td>\n",
       "      <td>15</td>\n",
       "    </tr>\n",
       "  </tbody>\n",
       "</table>\n",
       "</div>"
      ],
      "text/plain": [
       "   U_OB_SMS_CNT_T6  U_OB_SMS_REV_T6  U_OB_DAY_SMS_CNT_T6  U_OB_EVN_SMS_CNT_T6  \\\n",
       "0                0            0.000                    0                    0   \n",
       "1              586            2.868                  312                  244   \n",
       "2                2            6.931                    0                    1   \n",
       "3                0            0.000                    0                    0   \n",
       "4              189            0.000                   83                   91   \n",
       "\n",
       "   U_OB_NGT_SMS_CNT_T6  \n",
       "0                    0  \n",
       "1                   30  \n",
       "2                    1  \n",
       "3                    0  \n",
       "4                   15  "
      ]
     },
     "execution_count": 27,
     "metadata": {},
     "output_type": "execute_result"
    }
   ],
   "source": [
    "#sms = df[['U_OB_SMS_FREE_CNT_T6', 'U_OB_SMS_PAID_CNT_T6', 'U_OB_SMS_CNT_T6', 'U_OB_SMS_REV_T6', 'U_OB_DAY_SMS_CNT_T6', 'U_OB_EVN_SMS_CNT_T6', 'U_OB_NGT_SMS_CNT_T6']]\n",
    "SMS = df[['U_OB_SMS_CNT_T6', 'U_OB_SMS_REV_T6', 'U_OB_DAY_SMS_CNT_T6', 'U_OB_EVN_SMS_CNT_T6', 'U_OB_NGT_SMS_CNT_T6']]\n",
    "SMS.head()\n"
   ]
  },
  {
   "cell_type": "code",
   "execution_count": 28,
   "metadata": {},
   "outputs": [
    {
     "data": {
      "text/plain": [
       "18587"
      ]
     },
     "execution_count": 28,
     "metadata": {},
     "output_type": "execute_result"
    }
   ],
   "source": [
    "df['U_OB_SMS_CNT_T6'].sum()"
   ]
  },
  {
   "cell_type": "code",
   "execution_count": 29,
   "metadata": {},
   "outputs": [
    {
     "data": {
      "text/plain": [
       "459.02700000000004"
      ]
     },
     "execution_count": 29,
     "metadata": {},
     "output_type": "execute_result"
    }
   ],
   "source": [
    "df['U_OB_SMS_REV_T6'].sum()"
   ]
  },
  {
   "cell_type": "code",
   "execution_count": 30,
   "metadata": {},
   "outputs": [
    {
     "data": {
      "text/plain": [
       "8836"
      ]
     },
     "execution_count": 30,
     "metadata": {},
     "output_type": "execute_result"
    }
   ],
   "source": [
    "df['U_OB_DAY_SMS_CNT_T6'].sum()"
   ]
  },
  {
   "cell_type": "code",
   "execution_count": 31,
   "metadata": {},
   "outputs": [
    {
     "data": {
      "text/plain": [
       "8471"
      ]
     },
     "execution_count": 31,
     "metadata": {},
     "output_type": "execute_result"
    }
   ],
   "source": [
    "df['U_OB_EVN_SMS_CNT_T6'].sum()"
   ]
  },
  {
   "cell_type": "code",
   "execution_count": 32,
   "metadata": {},
   "outputs": [
    {
     "data": {
      "text/plain": [
       "1280"
      ]
     },
     "execution_count": 32,
     "metadata": {},
     "output_type": "execute_result"
    }
   ],
   "source": [
    "df['U_OB_NGT_SMS_CNT_T6'].sum()"
   ]
  },
  {
   "cell_type": "code",
   "execution_count": 33,
   "metadata": {},
   "outputs": [
    {
     "data": {
      "text/html": [
       "<div>\n",
       "<style scoped>\n",
       "    .dataframe tbody tr th:only-of-type {\n",
       "        vertical-align: middle;\n",
       "    }\n",
       "\n",
       "    .dataframe tbody tr th {\n",
       "        vertical-align: top;\n",
       "    }\n",
       "\n",
       "    .dataframe thead th {\n",
       "        text-align: right;\n",
       "    }\n",
       "</style>\n",
       "<table border=\"1\" class=\"dataframe\">\n",
       "  <thead>\n",
       "    <tr style=\"text-align: right;\">\n",
       "      <th></th>\n",
       "      <th>index</th>\n",
       "      <th>0</th>\n",
       "    </tr>\n",
       "  </thead>\n",
       "  <tbody>\n",
       "    <tr>\n",
       "      <th>0</th>\n",
       "      <td>U_OB_DAY_SMS_CNT_T6</td>\n",
       "      <td>8836</td>\n",
       "    </tr>\n",
       "    <tr>\n",
       "      <th>1</th>\n",
       "      <td>U_OB_EVN_SMS_CNT_T6</td>\n",
       "      <td>8471</td>\n",
       "    </tr>\n",
       "    <tr>\n",
       "      <th>2</th>\n",
       "      <td>U_OB_NGT_SMS_CNT_T6</td>\n",
       "      <td>1280</td>\n",
       "    </tr>\n",
       "  </tbody>\n",
       "</table>\n",
       "</div>"
      ],
      "text/plain": [
       "                 index     0\n",
       "0  U_OB_DAY_SMS_CNT_T6  8836\n",
       "1  U_OB_EVN_SMS_CNT_T6  8471\n",
       "2  U_OB_NGT_SMS_CNT_T6  1280"
      ]
     },
     "execution_count": 33,
     "metadata": {},
     "output_type": "execute_result"
    }
   ],
   "source": [
    "sms = df[['U_OB_DAY_SMS_CNT_T6', 'U_OB_EVN_SMS_CNT_T6', 'U_OB_NGT_SMS_CNT_T6']].sum()\n",
    "sms_df = pd.DataFrame(sms).reset_index()\n",
    "sms_df"
   ]
  },
  {
   "cell_type": "code",
   "execution_count": 34,
   "metadata": {},
   "outputs": [
    {
     "data": {
      "image/png": "[encoded data removed]",
      "text/plain": [
       "<Figure size 720x360 with 1 Axes>"
      ]
     },
     "metadata": {
      "needs_background": "light"
     },
     "output_type": "display_data"
    }
   ],
   "source": [
    "plt.figure(figsize=(10,5))\n",
    "sns.barplot(x='index', y=0, data=sms_df);\n",
    "\n"
   ]
  },
  {
   "cell_type": "markdown",
   "metadata": {},
   "source": [
    "<h4 style=\"color:red;\">Task 4 : Perform Exploratory Data Analysis on GPRS </h4>"
   ]
  },
  {
   "cell_type": "code",
   "execution_count": 35,
   "metadata": {},
   "outputs": [
    {
     "data": {
      "text/plain": [
       "62"
      ]
     },
     "execution_count": 35,
     "metadata": {},
     "output_type": "execute_result"
    }
   ],
   "source": [
    "df.columns.str.contains('GPRS').sum()\n"
   ]
  },
  {
   "cell_type": "code",
   "execution_count": 36,
   "metadata": {},
   "outputs": [
    {
     "data": {
      "text/html": [
       "<div>\n",
       "<style scoped>\n",
       "    .dataframe tbody tr th:only-of-type {\n",
       "        vertical-align: middle;\n",
       "    }\n",
       "\n",
       "    .dataframe tbody tr th {\n",
       "        vertical-align: top;\n",
       "    }\n",
       "\n",
       "    .dataframe thead th {\n",
       "        text-align: right;\n",
       "    }\n",
       "</style>\n",
       "<table border=\"1\" class=\"dataframe\">\n",
       "  <thead>\n",
       "    <tr style=\"text-align: right;\">\n",
       "      <th></th>\n",
       "      <th>U_GPRS_CNT_T6</th>\n",
       "      <th>U_GPRS_REV_T6</th>\n",
       "      <th>U_GPRS_DAY_VOL_T6</th>\n",
       "      <th>U_GPRS_EVN_VOL_T6</th>\n",
       "      <th>U_GPRS_NGT_VOL_T6</th>\n",
       "    </tr>\n",
       "  </thead>\n",
       "  <tbody>\n",
       "    <tr>\n",
       "      <th>0</th>\n",
       "      <td>0</td>\n",
       "      <td>0.00</td>\n",
       "      <td>0</td>\n",
       "      <td>0</td>\n",
       "      <td>0</td>\n",
       "    </tr>\n",
       "    <tr>\n",
       "      <th>1</th>\n",
       "      <td>26</td>\n",
       "      <td>20.25</td>\n",
       "      <td>489</td>\n",
       "      <td>66</td>\n",
       "      <td>761</td>\n",
       "    </tr>\n",
       "    <tr>\n",
       "      <th>2</th>\n",
       "      <td>3</td>\n",
       "      <td>0.00</td>\n",
       "      <td>0</td>\n",
       "      <td>0</td>\n",
       "      <td>61</td>\n",
       "    </tr>\n",
       "    <tr>\n",
       "      <th>3</th>\n",
       "      <td>0</td>\n",
       "      <td>0.00</td>\n",
       "      <td>0</td>\n",
       "      <td>0</td>\n",
       "      <td>0</td>\n",
       "    </tr>\n",
       "    <tr>\n",
       "      <th>4</th>\n",
       "      <td>0</td>\n",
       "      <td>0.00</td>\n",
       "      <td>0</td>\n",
       "      <td>0</td>\n",
       "      <td>0</td>\n",
       "    </tr>\n",
       "  </tbody>\n",
       "</table>\n",
       "</div>"
      ],
      "text/plain": [
       "   U_GPRS_CNT_T6  U_GPRS_REV_T6  U_GPRS_DAY_VOL_T6  U_GPRS_EVN_VOL_T6  \\\n",
       "0              0           0.00                  0                  0   \n",
       "1             26          20.25                489                 66   \n",
       "2              3           0.00                  0                  0   \n",
       "3              0           0.00                  0                  0   \n",
       "4              0           0.00                  0                  0   \n",
       "\n",
       "   U_GPRS_NGT_VOL_T6  \n",
       "0                  0  \n",
       "1                761  \n",
       "2                 61  \n",
       "3                  0  \n",
       "4                  0  "
      ]
     },
     "execution_count": 36,
     "metadata": {},
     "output_type": "execute_result"
    }
   ],
   "source": [
    "GPRS = df[['U_GPRS_CNT_T6', 'U_GPRS_REV_T6', 'U_GPRS_DAY_VOL_T6', 'U_GPRS_EVN_VOL_T6', 'U_GPRS_NGT_VOL_T6']]\n",
    "GPRS.head()"
   ]
  },
  {
   "cell_type": "code",
   "execution_count": 37,
   "metadata": {},
   "outputs": [
    {
     "data": {
      "text/plain": [
       "2104"
      ]
     },
     "execution_count": 37,
     "metadata": {},
     "output_type": "execute_result"
    }
   ],
   "source": [
    "df['U_GPRS_CNT_T6'].sum()"
   ]
  },
  {
   "cell_type": "code",
   "execution_count": 38,
   "metadata": {},
   "outputs": [
    {
     "data": {
      "text/plain": [
       "166.23"
      ]
     },
     "execution_count": 38,
     "metadata": {},
     "output_type": "execute_result"
    }
   ],
   "source": [
    "df['U_GPRS_REV_T6'].sum()"
   ]
  },
  {
   "cell_type": "code",
   "execution_count": 39,
   "metadata": {},
   "outputs": [
    {
     "data": {
      "text/plain": [
       "9337777"
      ]
     },
     "execution_count": 39,
     "metadata": {},
     "output_type": "execute_result"
    }
   ],
   "source": [
    "df['U_GPRS_DAY_VOL_T6'].sum()"
   ]
  },
  {
   "cell_type": "code",
   "execution_count": 40,
   "metadata": {},
   "outputs": [
    {
     "data": {
      "text/plain": [
       "4475266"
      ]
     },
     "execution_count": 40,
     "metadata": {},
     "output_type": "execute_result"
    }
   ],
   "source": [
    "df['U_GPRS_EVN_VOL_T6'].sum()"
   ]
  },
  {
   "cell_type": "code",
   "execution_count": 41,
   "metadata": {},
   "outputs": [
    {
     "data": {
      "text/plain": [
       "3536520"
      ]
     },
     "execution_count": 41,
     "metadata": {},
     "output_type": "execute_result"
    }
   ],
   "source": [
    "df['U_GPRS_NGT_VOL_T6'].sum()"
   ]
  },
  {
   "cell_type": "code",
   "execution_count": 42,
   "metadata": {},
   "outputs": [
    {
     "data": {
      "text/html": [
       "<div>\n",
       "<style scoped>\n",
       "    .dataframe tbody tr th:only-of-type {\n",
       "        vertical-align: middle;\n",
       "    }\n",
       "\n",
       "    .dataframe tbody tr th {\n",
       "        vertical-align: top;\n",
       "    }\n",
       "\n",
       "    .dataframe thead th {\n",
       "        text-align: right;\n",
       "    }\n",
       "</style>\n",
       "<table border=\"1\" class=\"dataframe\">\n",
       "  <thead>\n",
       "    <tr style=\"text-align: right;\">\n",
       "      <th></th>\n",
       "      <th>index</th>\n",
       "      <th>0</th>\n",
       "    </tr>\n",
       "  </thead>\n",
       "  <tbody>\n",
       "    <tr>\n",
       "      <th>0</th>\n",
       "      <td>U_GPRS_DAY_VOL_T6</td>\n",
       "      <td>9337777</td>\n",
       "    </tr>\n",
       "    <tr>\n",
       "      <th>1</th>\n",
       "      <td>U_GPRS_EVN_VOL_T6</td>\n",
       "      <td>4475266</td>\n",
       "    </tr>\n",
       "    <tr>\n",
       "      <th>2</th>\n",
       "      <td>U_GPRS_NGT_VOL_T6</td>\n",
       "      <td>3536520</td>\n",
       "    </tr>\n",
       "  </tbody>\n",
       "</table>\n",
       "</div>"
      ],
      "text/plain": [
       "               index        0\n",
       "0  U_GPRS_DAY_VOL_T6  9337777\n",
       "1  U_GPRS_EVN_VOL_T6  4475266\n",
       "2  U_GPRS_NGT_VOL_T6  3536520"
      ]
     },
     "execution_count": 42,
     "metadata": {},
     "output_type": "execute_result"
    }
   ],
   "source": [
    "gprs = df[['U_GPRS_DAY_VOL_T6', 'U_GPRS_EVN_VOL_T6', 'U_GPRS_NGT_VOL_T6']].sum()\n",
    "gprs_df = pd.DataFrame(gprs).reset_index()\n",
    "gprs_df"
   ]
  },
  {
   "cell_type": "code",
   "execution_count": 43,
   "metadata": {},
   "outputs": [
    {
     "data": {
      "text/plain": [
       "<matplotlib.axes._subplots.AxesSubplot at 0x1a17a81cc0>"
      ]
     },
     "execution_count": 43,
     "metadata": {},
     "output_type": "execute_result"
    },
    {
     "data": {
      "image/png": "[encoded data removed]",
      "text/plain": [
       "<Figure size 720x360 with 1 Axes>"
      ]
     },
     "metadata": {
      "needs_background": "light"
     },
     "output_type": "display_data"
    }
   ],
   "source": [
    "plt.figure(figsize=(10,5))\n",
    "sns.barplot(x='index', y=0, data=gprs_df )"
   ]
  },
  {
   "cell_type": "markdown",
   "metadata": {},
   "source": [
    "<h4 style=\"color:red;\">Task 4 : Perform Exploratory Data Analysis on Recharge </h4>"
   ]
  },
  {
   "cell_type": "code",
   "execution_count": 44,
   "metadata": {},
   "outputs": [
    {
     "data": {
      "text/plain": [
       "28"
      ]
     },
     "execution_count": 44,
     "metadata": {},
     "output_type": "execute_result"
    }
   ],
   "source": [
    "df.columns.str.contains('RECH').sum()\n"
   ]
  },
  {
   "cell_type": "code",
   "execution_count": 45,
   "metadata": {},
   "outputs": [
    {
     "data": {
      "text/html": [
       "<div>\n",
       "<style scoped>\n",
       "    .dataframe tbody tr th:only-of-type {\n",
       "        vertical-align: middle;\n",
       "    }\n",
       "\n",
       "    .dataframe tbody tr th {\n",
       "        vertical-align: top;\n",
       "    }\n",
       "\n",
       "    .dataframe thead th {\n",
       "        text-align: right;\n",
       "    }\n",
       "</style>\n",
       "<table border=\"1\" class=\"dataframe\">\n",
       "  <thead>\n",
       "    <tr style=\"text-align: right;\">\n",
       "      <th></th>\n",
       "      <th>RECH_CNT_T6</th>\n",
       "      <th>RECH_0_50_CNT_T6</th>\n",
       "      <th>RECH_50_100_CNT_T6</th>\n",
       "      <th>RECH_100_150_CNT_T6</th>\n",
       "      <th>RECH_150_200_CNT_T6</th>\n",
       "      <th>RECH_300_500_CNT_T6</th>\n",
       "      <th>RECH_GT_1000_CNT_T6</th>\n",
       "    </tr>\n",
       "  </thead>\n",
       "  <tbody>\n",
       "    <tr>\n",
       "      <th>0</th>\n",
       "      <td>6.0</td>\n",
       "      <td>0.0</td>\n",
       "      <td>0.0</td>\n",
       "      <td>6.0</td>\n",
       "      <td>0.0</td>\n",
       "      <td>0.0</td>\n",
       "      <td>0.0</td>\n",
       "    </tr>\n",
       "    <tr>\n",
       "      <th>1</th>\n",
       "      <td>4.0</td>\n",
       "      <td>0.0</td>\n",
       "      <td>0.0</td>\n",
       "      <td>4.0</td>\n",
       "      <td>0.0</td>\n",
       "      <td>0.0</td>\n",
       "      <td>0.0</td>\n",
       "    </tr>\n",
       "    <tr>\n",
       "      <th>2</th>\n",
       "      <td>8.0</td>\n",
       "      <td>0.0</td>\n",
       "      <td>0.0</td>\n",
       "      <td>8.0</td>\n",
       "      <td>0.0</td>\n",
       "      <td>0.0</td>\n",
       "      <td>0.0</td>\n",
       "    </tr>\n",
       "    <tr>\n",
       "      <th>3</th>\n",
       "      <td>3.0</td>\n",
       "      <td>3.0</td>\n",
       "      <td>0.0</td>\n",
       "      <td>0.0</td>\n",
       "      <td>0.0</td>\n",
       "      <td>0.0</td>\n",
       "      <td>0.0</td>\n",
       "    </tr>\n",
       "    <tr>\n",
       "      <th>4</th>\n",
       "      <td>6.0</td>\n",
       "      <td>0.0</td>\n",
       "      <td>0.0</td>\n",
       "      <td>6.0</td>\n",
       "      <td>0.0</td>\n",
       "      <td>0.0</td>\n",
       "      <td>0.0</td>\n",
       "    </tr>\n",
       "  </tbody>\n",
       "</table>\n",
       "</div>"
      ],
      "text/plain": [
       "   RECH_CNT_T6  RECH_0_50_CNT_T6  RECH_50_100_CNT_T6  RECH_100_150_CNT_T6  \\\n",
       "0          6.0               0.0                 0.0                  6.0   \n",
       "1          4.0               0.0                 0.0                  4.0   \n",
       "2          8.0               0.0                 0.0                  8.0   \n",
       "3          3.0               3.0                 0.0                  0.0   \n",
       "4          6.0               0.0                 0.0                  6.0   \n",
       "\n",
       "   RECH_150_200_CNT_T6  RECH_300_500_CNT_T6  RECH_GT_1000_CNT_T6  \n",
       "0                  0.0                  0.0                  0.0  \n",
       "1                  0.0                  0.0                  0.0  \n",
       "2                  0.0                  0.0                  0.0  \n",
       "3                  0.0                  0.0                  0.0  \n",
       "4                  0.0                  0.0                  0.0  "
      ]
     },
     "execution_count": 45,
     "metadata": {},
     "output_type": "execute_result"
    }
   ],
   "source": [
    "RECH = df[['RECH_CNT_T6', 'RECH_0_50_CNT_T6', 'RECH_50_100_CNT_T6', 'RECH_100_150_CNT_T6', 'RECH_150_200_CNT_T6', 'RECH_300_500_CNT_T6', 'RECH_GT_1000_CNT_T6']]\n",
    "RECH.head()\n"
   ]
  },
  {
   "cell_type": "code",
   "execution_count": 46,
   "metadata": {},
   "outputs": [
    {
     "data": {
      "text/plain": [
       "554.0"
      ]
     },
     "execution_count": 46,
     "metadata": {},
     "output_type": "execute_result"
    }
   ],
   "source": [
    "df['RECH_CNT_T6'].sum()"
   ]
  },
  {
   "cell_type": "code",
   "execution_count": 47,
   "metadata": {},
   "outputs": [
    {
     "data": {
      "text/plain": [
       "121.0"
      ]
     },
     "execution_count": 47,
     "metadata": {},
     "output_type": "execute_result"
    }
   ],
   "source": [
    "df['RECH_0_50_CNT_T6'].sum()"
   ]
  },
  {
   "cell_type": "code",
   "execution_count": 48,
   "metadata": {},
   "outputs": [
    {
     "data": {
      "text/plain": [
       "199.0"
      ]
     },
     "execution_count": 48,
     "metadata": {},
     "output_type": "execute_result"
    }
   ],
   "source": [
    "df['RECH_50_100_CNT_T6'].sum()"
   ]
  },
  {
   "cell_type": "code",
   "execution_count": 49,
   "metadata": {},
   "outputs": [
    {
     "data": {
      "text/plain": [
       "182.0"
      ]
     },
     "execution_count": 49,
     "metadata": {},
     "output_type": "execute_result"
    }
   ],
   "source": [
    "df['RECH_100_150_CNT_T6'].sum()"
   ]
  },
  {
   "cell_type": "code",
   "execution_count": 50,
   "metadata": {},
   "outputs": [
    {
     "data": {
      "text/plain": [
       "16.0"
      ]
     },
     "execution_count": 50,
     "metadata": {},
     "output_type": "execute_result"
    }
   ],
   "source": [
    "df['RECH_150_200_CNT_T6'].sum()"
   ]
  },
  {
   "cell_type": "code",
   "execution_count": 51,
   "metadata": {},
   "outputs": [
    {
     "data": {
      "text/plain": [
       "6.0"
      ]
     },
     "execution_count": 51,
     "metadata": {},
     "output_type": "execute_result"
    }
   ],
   "source": [
    "df['RECH_300_500_CNT_T6'].sum()"
   ]
  },
  {
   "cell_type": "code",
   "execution_count": 52,
   "metadata": {},
   "outputs": [
    {
     "data": {
      "text/plain": [
       "2.0"
      ]
     },
     "execution_count": 52,
     "metadata": {},
     "output_type": "execute_result"
    }
   ],
   "source": [
    "df['RECH_GT_1000_CNT_T6'].sum()"
   ]
  },
  {
   "cell_type": "code",
   "execution_count": 53,
   "metadata": {},
   "outputs": [
    {
     "data": {
      "text/html": [
       "<div>\n",
       "<style scoped>\n",
       "    .dataframe tbody tr th:only-of-type {\n",
       "        vertical-align: middle;\n",
       "    }\n",
       "\n",
       "    .dataframe tbody tr th {\n",
       "        vertical-align: top;\n",
       "    }\n",
       "\n",
       "    .dataframe thead th {\n",
       "        text-align: right;\n",
       "    }\n",
       "</style>\n",
       "<table border=\"1\" class=\"dataframe\">\n",
       "  <thead>\n",
       "    <tr style=\"text-align: right;\">\n",
       "      <th></th>\n",
       "      <th>index</th>\n",
       "      <th>0</th>\n",
       "    </tr>\n",
       "  </thead>\n",
       "  <tbody>\n",
       "    <tr>\n",
       "      <th>0</th>\n",
       "      <td>RECH_0_50_CNT_T6</td>\n",
       "      <td>121.0</td>\n",
       "    </tr>\n",
       "    <tr>\n",
       "      <th>1</th>\n",
       "      <td>RECH_50_100_CNT_T6</td>\n",
       "      <td>199.0</td>\n",
       "    </tr>\n",
       "    <tr>\n",
       "      <th>2</th>\n",
       "      <td>RECH_100_150_CNT_T6</td>\n",
       "      <td>182.0</td>\n",
       "    </tr>\n",
       "    <tr>\n",
       "      <th>3</th>\n",
       "      <td>RECH_150_200_CNT_T6</td>\n",
       "      <td>16.0</td>\n",
       "    </tr>\n",
       "    <tr>\n",
       "      <th>4</th>\n",
       "      <td>RECH_300_500_CNT_T6</td>\n",
       "      <td>6.0</td>\n",
       "    </tr>\n",
       "    <tr>\n",
       "      <th>5</th>\n",
       "      <td>RECH_GT_1000_CNT_T6</td>\n",
       "      <td>2.0</td>\n",
       "    </tr>\n",
       "  </tbody>\n",
       "</table>\n",
       "</div>"
      ],
      "text/plain": [
       "                 index      0\n",
       "0     RECH_0_50_CNT_T6  121.0\n",
       "1   RECH_50_100_CNT_T6  199.0\n",
       "2  RECH_100_150_CNT_T6  182.0\n",
       "3  RECH_150_200_CNT_T6   16.0\n",
       "4  RECH_300_500_CNT_T6    6.0\n",
       "5  RECH_GT_1000_CNT_T6    2.0"
      ]
     },
     "execution_count": 53,
     "metadata": {},
     "output_type": "execute_result"
    }
   ],
   "source": [
    "rech = df[['RECH_0_50_CNT_T6', 'RECH_50_100_CNT_T6', 'RECH_100_150_CNT_T6', 'RECH_150_200_CNT_T6', 'RECH_300_500_CNT_T6', 'RECH_GT_1000_CNT_T6']].sum()\n",
    "rech_df = pd.DataFrame(rech).reset_index()\n",
    "rech_df\n",
    "\n"
   ]
  },
  {
   "cell_type": "code",
   "execution_count": 54,
   "metadata": {},
   "outputs": [
    {
     "data": {
      "image/png": "[encoded data removed]",
      "text/plain": [
       "<Figure size 720x360 with 1 Axes>"
      ]
     },
     "metadata": {
      "needs_background": "light"
     },
     "output_type": "display_data"
    }
   ],
   "source": [
    "plt.figure(figsize=(10,5))\n",
    "plt.xticks(rotation=60)\n",
    "sns.barplot(x='index', y=0, data=rech_df);"
   ]
  },
  {
   "cell_type": "markdown",
   "metadata": {},
   "source": [
    "#### Revenue of SMS CALL and GPRS"
   ]
  },
  {
   "cell_type": "code",
   "execution_count": 55,
   "metadata": {},
   "outputs": [
    {
     "data": {
      "text/html": [
       "<div>\n",
       "<style scoped>\n",
       "    .dataframe tbody tr th:only-of-type {\n",
       "        vertical-align: middle;\n",
       "    }\n",
       "\n",
       "    .dataframe tbody tr th {\n",
       "        vertical-align: top;\n",
       "    }\n",
       "\n",
       "    .dataframe thead th {\n",
       "        text-align: right;\n",
       "    }\n",
       "</style>\n",
       "<table border=\"1\" class=\"dataframe\">\n",
       "  <thead>\n",
       "    <tr style=\"text-align: right;\">\n",
       "      <th></th>\n",
       "      <th>index</th>\n",
       "      <th>0</th>\n",
       "    </tr>\n",
       "  </thead>\n",
       "  <tbody>\n",
       "    <tr>\n",
       "      <th>0</th>\n",
       "      <td>U_OB_VC_REV_T6</td>\n",
       "      <td>14011.762</td>\n",
       "    </tr>\n",
       "    <tr>\n",
       "      <th>1</th>\n",
       "      <td>U_OB_SMS_REV_T6</td>\n",
       "      <td>459.027</td>\n",
       "    </tr>\n",
       "    <tr>\n",
       "      <th>2</th>\n",
       "      <td>U_GPRS_REV_T6</td>\n",
       "      <td>166.230</td>\n",
       "    </tr>\n",
       "  </tbody>\n",
       "</table>\n",
       "</div>"
      ],
      "text/plain": [
       "             index          0\n",
       "0   U_OB_VC_REV_T6  14011.762\n",
       "1  U_OB_SMS_REV_T6    459.027\n",
       "2    U_GPRS_REV_T6    166.230"
      ]
     },
     "execution_count": 55,
     "metadata": {},
     "output_type": "execute_result"
    }
   ],
   "source": [
    "revenue = df[['U_OB_VC_REV_T6', 'U_OB_SMS_REV_T6', 'U_GPRS_REV_T6']].sum()\n",
    "revenue_df = pd.DataFrame(revenue).reset_index()\n",
    "revenue_df"
   ]
  },
  {
   "cell_type": "code",
   "execution_count": 56,
   "metadata": {},
   "outputs": [
    {
     "data": {
      "image/png": "[encoded data removed]",
      "text/plain": [
       "<Figure size 504x360 with 1 Axes>"
      ]
     },
     "metadata": {
      "needs_background": "light"
     },
     "output_type": "display_data"
    }
   ],
   "source": [
    "plt.figure(figsize=(7,5))\n",
    "sns.barplot(x='index', y=0, data=revenue_df);"
   ]
  },
  {
   "cell_type": "markdown",
   "metadata": {},
   "source": [
    "<h4 style=\"color:red;\">Task 5 : Detect Outliers on Call, SMS, GPRS, Recharge </h4>"
   ]
  },
  {
   "cell_type": "markdown",
   "metadata": {},
   "source": [
    "Detect outlie of Voice call"
   ]
  },
  {
   "cell_type": "code",
   "execution_count": 57,
   "metadata": {},
   "outputs": [
    {
     "data": {
      "text/plain": [
       "array([ 72.  , 304.75])"
      ]
     },
     "execution_count": 57,
     "metadata": {},
     "output_type": "execute_result"
    }
   ],
   "source": [
    "np.percentile(df['U_OB_VC_CNT_T6'], [25, 75])"
   ]
  },
  {
   "cell_type": "code",
   "execution_count": 58,
   "metadata": {},
   "outputs": [],
   "source": [
    "vc_q1, vc_q3 = df['U_OB_VC_CNT_T6'].quantile([0.25, 0.75]).values\n",
    "iqr = vc_q3 - vc_q1\n",
    "vc_e1 = (vc_q1 - (1.5*iqr))\n",
    "vc_e2 = (vc_q3 + (1.5*iqr))"
   ]
  },
  {
   "cell_type": "code",
   "execution_count": 59,
   "metadata": {},
   "outputs": [
    {
     "data": {
      "text/plain": [
       "(-277.125, 653.875)"
      ]
     },
     "execution_count": 59,
     "metadata": {},
     "output_type": "execute_result"
    }
   ],
   "source": [
    "vc_e1, vc_e2"
   ]
  },
  {
   "cell_type": "code",
   "execution_count": 60,
   "metadata": {},
   "outputs": [
    {
     "data": {
      "text/html": [
       "<div>\n",
       "<style scoped>\n",
       "    .dataframe tbody tr th:only-of-type {\n",
       "        vertical-align: middle;\n",
       "    }\n",
       "\n",
       "    .dataframe tbody tr th {\n",
       "        vertical-align: top;\n",
       "    }\n",
       "\n",
       "    .dataframe thead th {\n",
       "        text-align: right;\n",
       "    }\n",
       "</style>\n",
       "<table border=\"1\" class=\"dataframe\">\n",
       "  <thead>\n",
       "    <tr style=\"text-align: right;\">\n",
       "      <th></th>\n",
       "      <th>Customer ID</th>\n",
       "      <th>U_OB_VC_CNT_T6</th>\n",
       "      <th>U_OB_VC_CC_CNT_T6</th>\n",
       "      <th>U_OB_VC_DUR_T6</th>\n",
       "      <th>U_OB_VC_REV_T6</th>\n",
       "      <th>U_OB_DAY_VC_CNT_T6</th>\n",
       "      <th>U_OB_DAY_VC_CC_CNT_T6</th>\n",
       "      <th>U_OB_DAY_VC_DUR_T6</th>\n",
       "      <th>U_OB_DAY_VC_REV_T6</th>\n",
       "      <th>U_OB_EVN_VC_CNT_T6</th>\n",
       "      <th>...</th>\n",
       "      <th>RECH_750_1000_AMT_T6</th>\n",
       "      <th>RECH_750_1000_CNT_T6</th>\n",
       "      <th>RECH_GT_1000_AMT_T6</th>\n",
       "      <th>RECH_GT_1000_CNT_T6</th>\n",
       "      <th>RECEIVE_AMT_T6</th>\n",
       "      <th>RECEIVE_CNT_T6</th>\n",
       "      <th>SHARE_AMT_T6</th>\n",
       "      <th>SHARE_CNT_T6</th>\n",
       "      <th>LOAN_AMT_T6</th>\n",
       "      <th>LOAN_CNT_T6</th>\n",
       "    </tr>\n",
       "  </thead>\n",
       "  <tbody>\n",
       "    <tr>\n",
       "      <th>7</th>\n",
       "      <td>8</td>\n",
       "      <td>680</td>\n",
       "      <td>398</td>\n",
       "      <td>1450.0</td>\n",
       "      <td>0.000</td>\n",
       "      <td>475</td>\n",
       "      <td>292</td>\n",
       "      <td>818.5</td>\n",
       "      <td>0.000</td>\n",
       "      <td>197</td>\n",
       "      <td>...</td>\n",
       "      <td>0.0</td>\n",
       "      <td>0.0</td>\n",
       "      <td>0.0</td>\n",
       "      <td>0.0</td>\n",
       "      <td>0.0</td>\n",
       "      <td>0.0</td>\n",
       "      <td>18.1825</td>\n",
       "      <td>1.0</td>\n",
       "      <td>0.0</td>\n",
       "      <td>0.0</td>\n",
       "    </tr>\n",
       "    <tr>\n",
       "      <th>26</th>\n",
       "      <td>27</td>\n",
       "      <td>945</td>\n",
       "      <td>400</td>\n",
       "      <td>4049.0</td>\n",
       "      <td>167.450</td>\n",
       "      <td>558</td>\n",
       "      <td>290</td>\n",
       "      <td>2148.0</td>\n",
       "      <td>97.679</td>\n",
       "      <td>311</td>\n",
       "      <td>...</td>\n",
       "      <td>0.0</td>\n",
       "      <td>0.0</td>\n",
       "      <td>0.0</td>\n",
       "      <td>0.0</td>\n",
       "      <td>0.0</td>\n",
       "      <td>0.0</td>\n",
       "      <td>0.0000</td>\n",
       "      <td>0.0</td>\n",
       "      <td>150.0</td>\n",
       "      <td>10.0</td>\n",
       "    </tr>\n",
       "    <tr>\n",
       "      <th>39</th>\n",
       "      <td>40</td>\n",
       "      <td>657</td>\n",
       "      <td>388</td>\n",
       "      <td>868.0</td>\n",
       "      <td>0.000</td>\n",
       "      <td>339</td>\n",
       "      <td>230</td>\n",
       "      <td>450.0</td>\n",
       "      <td>0.000</td>\n",
       "      <td>212</td>\n",
       "      <td>...</td>\n",
       "      <td>NaN</td>\n",
       "      <td>NaN</td>\n",
       "      <td>NaN</td>\n",
       "      <td>NaN</td>\n",
       "      <td>NaN</td>\n",
       "      <td>NaN</td>\n",
       "      <td>NaN</td>\n",
       "      <td>NaN</td>\n",
       "      <td>NaN</td>\n",
       "      <td>NaN</td>\n",
       "    </tr>\n",
       "    <tr>\n",
       "      <th>58</th>\n",
       "      <td>59</td>\n",
       "      <td>665</td>\n",
       "      <td>270</td>\n",
       "      <td>1142.0</td>\n",
       "      <td>2570.612</td>\n",
       "      <td>320</td>\n",
       "      <td>175</td>\n",
       "      <td>516.0</td>\n",
       "      <td>1178.275</td>\n",
       "      <td>247</td>\n",
       "      <td>...</td>\n",
       "      <td>0.0</td>\n",
       "      <td>0.0</td>\n",
       "      <td>0.0</td>\n",
       "      <td>0.0</td>\n",
       "      <td>0.0</td>\n",
       "      <td>0.0</td>\n",
       "      <td>0.0000</td>\n",
       "      <td>0.0</td>\n",
       "      <td>120.0</td>\n",
       "      <td>8.0</td>\n",
       "    </tr>\n",
       "  </tbody>\n",
       "</table>\n",
       "<p>4 rows × 474 columns</p>\n",
       "</div>"
      ],
      "text/plain": [
       "    Customer ID  U_OB_VC_CNT_T6  U_OB_VC_CC_CNT_T6  U_OB_VC_DUR_T6  \\\n",
       "7             8             680                398          1450.0   \n",
       "26           27             945                400          4049.0   \n",
       "39           40             657                388           868.0   \n",
       "58           59             665                270          1142.0   \n",
       "\n",
       "    U_OB_VC_REV_T6  U_OB_DAY_VC_CNT_T6  U_OB_DAY_VC_CC_CNT_T6  \\\n",
       "7            0.000                 475                    292   \n",
       "26         167.450                 558                    290   \n",
       "39           0.000                 339                    230   \n",
       "58        2570.612                 320                    175   \n",
       "\n",
       "    U_OB_DAY_VC_DUR_T6  U_OB_DAY_VC_REV_T6  U_OB_EVN_VC_CNT_T6     ...       \\\n",
       "7                818.5               0.000                 197     ...        \n",
       "26              2148.0              97.679                 311     ...        \n",
       "39               450.0               0.000                 212     ...        \n",
       "58               516.0            1178.275                 247     ...        \n",
       "\n",
       "    RECH_750_1000_AMT_T6  RECH_750_1000_CNT_T6  RECH_GT_1000_AMT_T6  \\\n",
       "7                    0.0                   0.0                  0.0   \n",
       "26                   0.0                   0.0                  0.0   \n",
       "39                   NaN                   NaN                  NaN   \n",
       "58                   0.0                   0.0                  0.0   \n",
       "\n",
       "    RECH_GT_1000_CNT_T6  RECEIVE_AMT_T6  RECEIVE_CNT_T6  SHARE_AMT_T6  \\\n",
       "7                   0.0             0.0             0.0       18.1825   \n",
       "26                  0.0             0.0             0.0        0.0000   \n",
       "39                  NaN             NaN             NaN           NaN   \n",
       "58                  0.0             0.0             0.0        0.0000   \n",
       "\n",
       "    SHARE_CNT_T6  LOAN_AMT_T6  LOAN_CNT_T6  \n",
       "7            1.0          0.0          0.0  \n",
       "26           0.0        150.0         10.0  \n",
       "39           NaN          NaN          NaN  \n",
       "58           0.0        120.0          8.0  \n",
       "\n",
       "[4 rows x 474 columns]"
      ]
     },
     "execution_count": 60,
     "metadata": {},
     "output_type": "execute_result"
    }
   ],
   "source": [
    "df[(df['U_OB_VC_CNT_T6'] < vc_e1) | (df['U_OB_VC_CNT_T6'] > vc_e2)]"
   ]
  },
  {
   "cell_type": "markdown",
   "metadata": {},
   "source": [
    "Detect outlier of SMS"
   ]
  },
  {
   "cell_type": "code",
   "execution_count": 61,
   "metadata": {},
   "outputs": [
    {
     "data": {
      "text/plain": [
       "array([ 0., 23.])"
      ]
     },
     "execution_count": 61,
     "metadata": {},
     "output_type": "execute_result"
    }
   ],
   "source": [
    "np.percentile(df['U_OB_SMS_CNT_T6'], [25, 75])"
   ]
  },
  {
   "cell_type": "code",
   "execution_count": 62,
   "metadata": {},
   "outputs": [],
   "source": [
    "sms_q1, sms_q3 = df['U_OB_SMS_CNT_T6'].quantile([0.25, 0.75]).values\n",
    "iqr = sms_q3 - sms_q1\n",
    "sms_e1 = (sms_q1 - (1.5*iqr))\n",
    "sms_e2 = (sms_q3 + (1.5*iqr))"
   ]
  },
  {
   "cell_type": "code",
   "execution_count": 63,
   "metadata": {},
   "outputs": [
    {
     "data": {
      "text/plain": [
       "(-34.5, 57.5)"
      ]
     },
     "execution_count": 63,
     "metadata": {},
     "output_type": "execute_result"
    }
   ],
   "source": [
    "sms_e1, sms_e2"
   ]
  },
  {
   "cell_type": "code",
   "execution_count": 64,
   "metadata": {},
   "outputs": [
    {
     "data": {
      "text/html": [
       "<div>\n",
       "<style scoped>\n",
       "    .dataframe tbody tr th:only-of-type {\n",
       "        vertical-align: middle;\n",
       "    }\n",
       "\n",
       "    .dataframe tbody tr th {\n",
       "        vertical-align: top;\n",
       "    }\n",
       "\n",
       "    .dataframe thead th {\n",
       "        text-align: right;\n",
       "    }\n",
       "</style>\n",
       "<table border=\"1\" class=\"dataframe\">\n",
       "  <thead>\n",
       "    <tr style=\"text-align: right;\">\n",
       "      <th></th>\n",
       "      <th>Customer ID</th>\n",
       "      <th>U_OB_VC_CNT_T6</th>\n",
       "      <th>U_OB_VC_CC_CNT_T6</th>\n",
       "      <th>U_OB_VC_DUR_T6</th>\n",
       "      <th>U_OB_VC_REV_T6</th>\n",
       "      <th>U_OB_DAY_VC_CNT_T6</th>\n",
       "      <th>U_OB_DAY_VC_CC_CNT_T6</th>\n",
       "      <th>U_OB_DAY_VC_DUR_T6</th>\n",
       "      <th>U_OB_DAY_VC_REV_T6</th>\n",
       "      <th>U_OB_EVN_VC_CNT_T6</th>\n",
       "      <th>...</th>\n",
       "      <th>RECH_750_1000_AMT_T6</th>\n",
       "      <th>RECH_750_1000_CNT_T6</th>\n",
       "      <th>RECH_GT_1000_AMT_T6</th>\n",
       "      <th>RECH_GT_1000_CNT_T6</th>\n",
       "      <th>RECEIVE_AMT_T6</th>\n",
       "      <th>RECEIVE_CNT_T6</th>\n",
       "      <th>SHARE_AMT_T6</th>\n",
       "      <th>SHARE_CNT_T6</th>\n",
       "      <th>LOAN_AMT_T6</th>\n",
       "      <th>LOAN_CNT_T6</th>\n",
       "    </tr>\n",
       "  </thead>\n",
       "  <tbody>\n",
       "    <tr>\n",
       "      <th>1</th>\n",
       "      <td>2</td>\n",
       "      <td>41</td>\n",
       "      <td>38</td>\n",
       "      <td>132.5</td>\n",
       "      <td>137.276</td>\n",
       "      <td>17</td>\n",
       "      <td>14</td>\n",
       "      <td>65.0</td>\n",
       "      <td>77.824</td>\n",
       "      <td>23</td>\n",
       "      <td>...</td>\n",
       "      <td>0.0</td>\n",
       "      <td>0.0</td>\n",
       "      <td>0.0</td>\n",
       "      <td>0.0</td>\n",
       "      <td>25.5230</td>\n",
       "      <td>1.0</td>\n",
       "      <td>0.0000</td>\n",
       "      <td>0.0</td>\n",
       "      <td>60.0</td>\n",
       "      <td>4.0</td>\n",
       "    </tr>\n",
       "    <tr>\n",
       "      <th>4</th>\n",
       "      <td>5</td>\n",
       "      <td>313</td>\n",
       "      <td>220</td>\n",
       "      <td>2888.0</td>\n",
       "      <td>52.915</td>\n",
       "      <td>170</td>\n",
       "      <td>131</td>\n",
       "      <td>791.0</td>\n",
       "      <td>29.699</td>\n",
       "      <td>132</td>\n",
       "      <td>...</td>\n",
       "      <td>0.0</td>\n",
       "      <td>0.0</td>\n",
       "      <td>0.0</td>\n",
       "      <td>0.0</td>\n",
       "      <td>0.0000</td>\n",
       "      <td>0.0</td>\n",
       "      <td>0.0000</td>\n",
       "      <td>0.0</td>\n",
       "      <td>15.0</td>\n",
       "      <td>1.0</td>\n",
       "    </tr>\n",
       "    <tr>\n",
       "      <th>7</th>\n",
       "      <td>8</td>\n",
       "      <td>680</td>\n",
       "      <td>398</td>\n",
       "      <td>1450.0</td>\n",
       "      <td>0.000</td>\n",
       "      <td>475</td>\n",
       "      <td>292</td>\n",
       "      <td>818.5</td>\n",
       "      <td>0.000</td>\n",
       "      <td>197</td>\n",
       "      <td>...</td>\n",
       "      <td>0.0</td>\n",
       "      <td>0.0</td>\n",
       "      <td>0.0</td>\n",
       "      <td>0.0</td>\n",
       "      <td>0.0000</td>\n",
       "      <td>0.0</td>\n",
       "      <td>18.1825</td>\n",
       "      <td>1.0</td>\n",
       "      <td>0.0</td>\n",
       "      <td>0.0</td>\n",
       "    </tr>\n",
       "    <tr>\n",
       "      <th>10</th>\n",
       "      <td>11</td>\n",
       "      <td>203</td>\n",
       "      <td>134</td>\n",
       "      <td>1527.0</td>\n",
       "      <td>121.053</td>\n",
       "      <td>89</td>\n",
       "      <td>71</td>\n",
       "      <td>413.0</td>\n",
       "      <td>96.851</td>\n",
       "      <td>111</td>\n",
       "      <td>...</td>\n",
       "      <td>0.0</td>\n",
       "      <td>0.0</td>\n",
       "      <td>0.0</td>\n",
       "      <td>0.0</td>\n",
       "      <td>0.0000</td>\n",
       "      <td>0.0</td>\n",
       "      <td>0.0000</td>\n",
       "      <td>0.0</td>\n",
       "      <td>90.0</td>\n",
       "      <td>6.0</td>\n",
       "    </tr>\n",
       "    <tr>\n",
       "      <th>19</th>\n",
       "      <td>20</td>\n",
       "      <td>408</td>\n",
       "      <td>141</td>\n",
       "      <td>1830.0</td>\n",
       "      <td>314.297</td>\n",
       "      <td>142</td>\n",
       "      <td>66</td>\n",
       "      <td>404.0</td>\n",
       "      <td>88.135</td>\n",
       "      <td>208</td>\n",
       "      <td>...</td>\n",
       "      <td>0.0</td>\n",
       "      <td>0.0</td>\n",
       "      <td>0.0</td>\n",
       "      <td>0.0</td>\n",
       "      <td>0.0000</td>\n",
       "      <td>0.0</td>\n",
       "      <td>0.0000</td>\n",
       "      <td>0.0</td>\n",
       "      <td>165.0</td>\n",
       "      <td>11.0</td>\n",
       "    </tr>\n",
       "    <tr>\n",
       "      <th>25</th>\n",
       "      <td>26</td>\n",
       "      <td>525</td>\n",
       "      <td>255</td>\n",
       "      <td>1465.0</td>\n",
       "      <td>496.929</td>\n",
       "      <td>330</td>\n",
       "      <td>176</td>\n",
       "      <td>975.0</td>\n",
       "      <td>192.538</td>\n",
       "      <td>165</td>\n",
       "      <td>...</td>\n",
       "      <td>0.0</td>\n",
       "      <td>0.0</td>\n",
       "      <td>0.0</td>\n",
       "      <td>0.0</td>\n",
       "      <td>0.0000</td>\n",
       "      <td>0.0</td>\n",
       "      <td>0.0000</td>\n",
       "      <td>0.0</td>\n",
       "      <td>45.0</td>\n",
       "      <td>3.0</td>\n",
       "    </tr>\n",
       "    <tr>\n",
       "      <th>28</th>\n",
       "      <td>29</td>\n",
       "      <td>44</td>\n",
       "      <td>33</td>\n",
       "      <td>222.0</td>\n",
       "      <td>34.147</td>\n",
       "      <td>41</td>\n",
       "      <td>30</td>\n",
       "      <td>220.0</td>\n",
       "      <td>22.149</td>\n",
       "      <td>2</td>\n",
       "      <td>...</td>\n",
       "      <td>0.0</td>\n",
       "      <td>0.0</td>\n",
       "      <td>0.0</td>\n",
       "      <td>0.0</td>\n",
       "      <td>21.8528</td>\n",
       "      <td>1.0</td>\n",
       "      <td>0.0000</td>\n",
       "      <td>0.0</td>\n",
       "      <td>60.0</td>\n",
       "      <td>4.0</td>\n",
       "    </tr>\n",
       "    <tr>\n",
       "      <th>30</th>\n",
       "      <td>31</td>\n",
       "      <td>201</td>\n",
       "      <td>119</td>\n",
       "      <td>913.0</td>\n",
       "      <td>117.971</td>\n",
       "      <td>65</td>\n",
       "      <td>44</td>\n",
       "      <td>417.0</td>\n",
       "      <td>42.991</td>\n",
       "      <td>136</td>\n",
       "      <td>...</td>\n",
       "      <td>0.0</td>\n",
       "      <td>0.0</td>\n",
       "      <td>0.0</td>\n",
       "      <td>0.0</td>\n",
       "      <td>0.0000</td>\n",
       "      <td>0.0</td>\n",
       "      <td>0.0000</td>\n",
       "      <td>0.0</td>\n",
       "      <td>120.0</td>\n",
       "      <td>8.0</td>\n",
       "    </tr>\n",
       "    <tr>\n",
       "      <th>44</th>\n",
       "      <td>45</td>\n",
       "      <td>503</td>\n",
       "      <td>358</td>\n",
       "      <td>1580.0</td>\n",
       "      <td>101.200</td>\n",
       "      <td>227</td>\n",
       "      <td>177</td>\n",
       "      <td>489.0</td>\n",
       "      <td>33.913</td>\n",
       "      <td>217</td>\n",
       "      <td>...</td>\n",
       "      <td>0.0</td>\n",
       "      <td>0.0</td>\n",
       "      <td>0.0</td>\n",
       "      <td>0.0</td>\n",
       "      <td>0.0000</td>\n",
       "      <td>0.0</td>\n",
       "      <td>0.0000</td>\n",
       "      <td>0.0</td>\n",
       "      <td>45.0</td>\n",
       "      <td>3.0</td>\n",
       "    </tr>\n",
       "    <tr>\n",
       "      <th>46</th>\n",
       "      <td>47</td>\n",
       "      <td>33</td>\n",
       "      <td>11</td>\n",
       "      <td>183.0</td>\n",
       "      <td>26.439</td>\n",
       "      <td>26</td>\n",
       "      <td>6</td>\n",
       "      <td>165.0</td>\n",
       "      <td>13.443</td>\n",
       "      <td>6</td>\n",
       "      <td>...</td>\n",
       "      <td>0.0</td>\n",
       "      <td>0.0</td>\n",
       "      <td>0.0</td>\n",
       "      <td>0.0</td>\n",
       "      <td>0.0000</td>\n",
       "      <td>0.0</td>\n",
       "      <td>0.0000</td>\n",
       "      <td>0.0</td>\n",
       "      <td>30.0</td>\n",
       "      <td>2.0</td>\n",
       "    </tr>\n",
       "    <tr>\n",
       "      <th>47</th>\n",
       "      <td>48</td>\n",
       "      <td>193</td>\n",
       "      <td>134</td>\n",
       "      <td>397.5</td>\n",
       "      <td>56.967</td>\n",
       "      <td>114</td>\n",
       "      <td>87</td>\n",
       "      <td>237.0</td>\n",
       "      <td>30.365</td>\n",
       "      <td>74</td>\n",
       "      <td>...</td>\n",
       "      <td>0.0</td>\n",
       "      <td>0.0</td>\n",
       "      <td>0.0</td>\n",
       "      <td>0.0</td>\n",
       "      <td>0.0000</td>\n",
       "      <td>0.0</td>\n",
       "      <td>0.0000</td>\n",
       "      <td>0.0</td>\n",
       "      <td>15.0</td>\n",
       "      <td>1.0</td>\n",
       "    </tr>\n",
       "    <tr>\n",
       "      <th>48</th>\n",
       "      <td>49</td>\n",
       "      <td>151</td>\n",
       "      <td>80</td>\n",
       "      <td>149.0</td>\n",
       "      <td>83.803</td>\n",
       "      <td>107</td>\n",
       "      <td>61</td>\n",
       "      <td>109.5</td>\n",
       "      <td>65.281</td>\n",
       "      <td>43</td>\n",
       "      <td>...</td>\n",
       "      <td>0.0</td>\n",
       "      <td>0.0</td>\n",
       "      <td>0.0</td>\n",
       "      <td>0.0</td>\n",
       "      <td>0.0000</td>\n",
       "      <td>0.0</td>\n",
       "      <td>0.0000</td>\n",
       "      <td>0.0</td>\n",
       "      <td>30.0</td>\n",
       "      <td>2.0</td>\n",
       "    </tr>\n",
       "    <tr>\n",
       "      <th>50</th>\n",
       "      <td>51</td>\n",
       "      <td>116</td>\n",
       "      <td>39</td>\n",
       "      <td>484.0</td>\n",
       "      <td>77.558</td>\n",
       "      <td>61</td>\n",
       "      <td>22</td>\n",
       "      <td>224.0</td>\n",
       "      <td>41.378</td>\n",
       "      <td>51</td>\n",
       "      <td>...</td>\n",
       "      <td>0.0</td>\n",
       "      <td>0.0</td>\n",
       "      <td>0.0</td>\n",
       "      <td>0.0</td>\n",
       "      <td>0.0000</td>\n",
       "      <td>0.0</td>\n",
       "      <td>0.0000</td>\n",
       "      <td>0.0</td>\n",
       "      <td>120.0</td>\n",
       "      <td>8.0</td>\n",
       "    </tr>\n",
       "    <tr>\n",
       "      <th>67</th>\n",
       "      <td>68</td>\n",
       "      <td>275</td>\n",
       "      <td>130</td>\n",
       "      <td>2343.0</td>\n",
       "      <td>53.359</td>\n",
       "      <td>159</td>\n",
       "      <td>83</td>\n",
       "      <td>1021.0</td>\n",
       "      <td>30.445</td>\n",
       "      <td>103</td>\n",
       "      <td>...</td>\n",
       "      <td>0.0</td>\n",
       "      <td>0.0</td>\n",
       "      <td>0.0</td>\n",
       "      <td>0.0</td>\n",
       "      <td>0.0000</td>\n",
       "      <td>0.0</td>\n",
       "      <td>0.0000</td>\n",
       "      <td>0.0</td>\n",
       "      <td>30.0</td>\n",
       "      <td>2.0</td>\n",
       "    </tr>\n",
       "    <tr>\n",
       "      <th>74</th>\n",
       "      <td>75</td>\n",
       "      <td>181</td>\n",
       "      <td>27</td>\n",
       "      <td>2429.5</td>\n",
       "      <td>76.020</td>\n",
       "      <td>40</td>\n",
       "      <td>8</td>\n",
       "      <td>602.0</td>\n",
       "      <td>43.140</td>\n",
       "      <td>137</td>\n",
       "      <td>...</td>\n",
       "      <td>0.0</td>\n",
       "      <td>0.0</td>\n",
       "      <td>0.0</td>\n",
       "      <td>0.0</td>\n",
       "      <td>0.0000</td>\n",
       "      <td>0.0</td>\n",
       "      <td>0.0000</td>\n",
       "      <td>0.0</td>\n",
       "      <td>90.0</td>\n",
       "      <td>6.0</td>\n",
       "    </tr>\n",
       "    <tr>\n",
       "      <th>81</th>\n",
       "      <td>82</td>\n",
       "      <td>63</td>\n",
       "      <td>55</td>\n",
       "      <td>492.0</td>\n",
       "      <td>129.329</td>\n",
       "      <td>39</td>\n",
       "      <td>33</td>\n",
       "      <td>339.0</td>\n",
       "      <td>59.354</td>\n",
       "      <td>23</td>\n",
       "      <td>...</td>\n",
       "      <td>0.0</td>\n",
       "      <td>0.0</td>\n",
       "      <td>0.0</td>\n",
       "      <td>0.0</td>\n",
       "      <td>0.0000</td>\n",
       "      <td>0.0</td>\n",
       "      <td>0.0000</td>\n",
       "      <td>0.0</td>\n",
       "      <td>15.0</td>\n",
       "      <td>1.0</td>\n",
       "    </tr>\n",
       "    <tr>\n",
       "      <th>88</th>\n",
       "      <td>89</td>\n",
       "      <td>75</td>\n",
       "      <td>45</td>\n",
       "      <td>127.0</td>\n",
       "      <td>48.637</td>\n",
       "      <td>27</td>\n",
       "      <td>19</td>\n",
       "      <td>42.0</td>\n",
       "      <td>21.809</td>\n",
       "      <td>47</td>\n",
       "      <td>...</td>\n",
       "      <td>0.0</td>\n",
       "      <td>0.0</td>\n",
       "      <td>0.0</td>\n",
       "      <td>0.0</td>\n",
       "      <td>58.3866</td>\n",
       "      <td>2.0</td>\n",
       "      <td>0.0000</td>\n",
       "      <td>0.0</td>\n",
       "      <td>60.0</td>\n",
       "      <td>4.0</td>\n",
       "    </tr>\n",
       "    <tr>\n",
       "      <th>94</th>\n",
       "      <td>95</td>\n",
       "      <td>32</td>\n",
       "      <td>28</td>\n",
       "      <td>104.0</td>\n",
       "      <td>114.007</td>\n",
       "      <td>16</td>\n",
       "      <td>15</td>\n",
       "      <td>68.0</td>\n",
       "      <td>49.507</td>\n",
       "      <td>9</td>\n",
       "      <td>...</td>\n",
       "      <td>0.0</td>\n",
       "      <td>0.0</td>\n",
       "      <td>0.0</td>\n",
       "      <td>0.0</td>\n",
       "      <td>0.0000</td>\n",
       "      <td>0.0</td>\n",
       "      <td>0.0000</td>\n",
       "      <td>0.0</td>\n",
       "      <td>15.0</td>\n",
       "      <td>1.0</td>\n",
       "    </tr>\n",
       "    <tr>\n",
       "      <th>99</th>\n",
       "      <td>100</td>\n",
       "      <td>146</td>\n",
       "      <td>36</td>\n",
       "      <td>1250.0</td>\n",
       "      <td>51.714</td>\n",
       "      <td>73</td>\n",
       "      <td>25</td>\n",
       "      <td>579.0</td>\n",
       "      <td>28.000</td>\n",
       "      <td>71</td>\n",
       "      <td>...</td>\n",
       "      <td>0.0</td>\n",
       "      <td>0.0</td>\n",
       "      <td>0.0</td>\n",
       "      <td>0.0</td>\n",
       "      <td>0.0000</td>\n",
       "      <td>0.0</td>\n",
       "      <td>0.0000</td>\n",
       "      <td>0.0</td>\n",
       "      <td>75.0</td>\n",
       "      <td>5.0</td>\n",
       "    </tr>\n",
       "  </tbody>\n",
       "</table>\n",
       "<p>19 rows × 474 columns</p>\n",
       "</div>"
      ],
      "text/plain": [
       "    Customer ID  U_OB_VC_CNT_T6  U_OB_VC_CC_CNT_T6  U_OB_VC_DUR_T6  \\\n",
       "1             2              41                 38           132.5   \n",
       "4             5             313                220          2888.0   \n",
       "7             8             680                398          1450.0   \n",
       "10           11             203                134          1527.0   \n",
       "19           20             408                141          1830.0   \n",
       "25           26             525                255          1465.0   \n",
       "28           29              44                 33           222.0   \n",
       "30           31             201                119           913.0   \n",
       "44           45             503                358          1580.0   \n",
       "46           47              33                 11           183.0   \n",
       "47           48             193                134           397.5   \n",
       "48           49             151                 80           149.0   \n",
       "50           51             116                 39           484.0   \n",
       "67           68             275                130          2343.0   \n",
       "74           75             181                 27          2429.5   \n",
       "81           82              63                 55           492.0   \n",
       "88           89              75                 45           127.0   \n",
       "94           95              32                 28           104.0   \n",
       "99          100             146                 36          1250.0   \n",
       "\n",
       "    U_OB_VC_REV_T6  U_OB_DAY_VC_CNT_T6  U_OB_DAY_VC_CC_CNT_T6  \\\n",
       "1          137.276                  17                     14   \n",
       "4           52.915                 170                    131   \n",
       "7            0.000                 475                    292   \n",
       "10         121.053                  89                     71   \n",
       "19         314.297                 142                     66   \n",
       "25         496.929                 330                    176   \n",
       "28          34.147                  41                     30   \n",
       "30         117.971                  65                     44   \n",
       "44         101.200                 227                    177   \n",
       "46          26.439                  26                      6   \n",
       "47          56.967                 114                     87   \n",
       "48          83.803                 107                     61   \n",
       "50          77.558                  61                     22   \n",
       "67          53.359                 159                     83   \n",
       "74          76.020                  40                      8   \n",
       "81         129.329                  39                     33   \n",
       "88          48.637                  27                     19   \n",
       "94         114.007                  16                     15   \n",
       "99          51.714                  73                     25   \n",
       "\n",
       "    U_OB_DAY_VC_DUR_T6  U_OB_DAY_VC_REV_T6  U_OB_EVN_VC_CNT_T6     ...       \\\n",
       "1                 65.0              77.824                  23     ...        \n",
       "4                791.0              29.699                 132     ...        \n",
       "7                818.5               0.000                 197     ...        \n",
       "10               413.0              96.851                 111     ...        \n",
       "19               404.0              88.135                 208     ...        \n",
       "25               975.0             192.538                 165     ...        \n",
       "28               220.0              22.149                   2     ...        \n",
       "30               417.0              42.991                 136     ...        \n",
       "44               489.0              33.913                 217     ...        \n",
       "46               165.0              13.443                   6     ...        \n",
       "47               237.0              30.365                  74     ...        \n",
       "48               109.5              65.281                  43     ...        \n",
       "50               224.0              41.378                  51     ...        \n",
       "67              1021.0              30.445                 103     ...        \n",
       "74               602.0              43.140                 137     ...        \n",
       "81               339.0              59.354                  23     ...        \n",
       "88                42.0              21.809                  47     ...        \n",
       "94                68.0              49.507                   9     ...        \n",
       "99               579.0              28.000                  71     ...        \n",
       "\n",
       "    RECH_750_1000_AMT_T6  RECH_750_1000_CNT_T6  RECH_GT_1000_AMT_T6  \\\n",
       "1                    0.0                   0.0                  0.0   \n",
       "4                    0.0                   0.0                  0.0   \n",
       "7                    0.0                   0.0                  0.0   \n",
       "10                   0.0                   0.0                  0.0   \n",
       "19                   0.0                   0.0                  0.0   \n",
       "25                   0.0                   0.0                  0.0   \n",
       "28                   0.0                   0.0                  0.0   \n",
       "30                   0.0                   0.0                  0.0   \n",
       "44                   0.0                   0.0                  0.0   \n",
       "46                   0.0                   0.0                  0.0   \n",
       "47                   0.0                   0.0                  0.0   \n",
       "48                   0.0                   0.0                  0.0   \n",
       "50                   0.0                   0.0                  0.0   \n",
       "67                   0.0                   0.0                  0.0   \n",
       "74                   0.0                   0.0                  0.0   \n",
       "81                   0.0                   0.0                  0.0   \n",
       "88                   0.0                   0.0                  0.0   \n",
       "94                   0.0                   0.0                  0.0   \n",
       "99                   0.0                   0.0                  0.0   \n",
       "\n",
       "    RECH_GT_1000_CNT_T6  RECEIVE_AMT_T6  RECEIVE_CNT_T6  SHARE_AMT_T6  \\\n",
       "1                   0.0         25.5230             1.0        0.0000   \n",
       "4                   0.0          0.0000             0.0        0.0000   \n",
       "7                   0.0          0.0000             0.0       18.1825   \n",
       "10                  0.0          0.0000             0.0        0.0000   \n",
       "19                  0.0          0.0000             0.0        0.0000   \n",
       "25                  0.0          0.0000             0.0        0.0000   \n",
       "28                  0.0         21.8528             1.0        0.0000   \n",
       "30                  0.0          0.0000             0.0        0.0000   \n",
       "44                  0.0          0.0000             0.0        0.0000   \n",
       "46                  0.0          0.0000             0.0        0.0000   \n",
       "47                  0.0          0.0000             0.0        0.0000   \n",
       "48                  0.0          0.0000             0.0        0.0000   \n",
       "50                  0.0          0.0000             0.0        0.0000   \n",
       "67                  0.0          0.0000             0.0        0.0000   \n",
       "74                  0.0          0.0000             0.0        0.0000   \n",
       "81                  0.0          0.0000             0.0        0.0000   \n",
       "88                  0.0         58.3866             2.0        0.0000   \n",
       "94                  0.0          0.0000             0.0        0.0000   \n",
       "99                  0.0          0.0000             0.0        0.0000   \n",
       "\n",
       "    SHARE_CNT_T6  LOAN_AMT_T6  LOAN_CNT_T6  \n",
       "1            0.0         60.0          4.0  \n",
       "4            0.0         15.0          1.0  \n",
       "7            1.0          0.0          0.0  \n",
       "10           0.0         90.0          6.0  \n",
       "19           0.0        165.0         11.0  \n",
       "25           0.0         45.0          3.0  \n",
       "28           0.0         60.0          4.0  \n",
       "30           0.0        120.0          8.0  \n",
       "44           0.0         45.0          3.0  \n",
       "46           0.0         30.0          2.0  \n",
       "47           0.0         15.0          1.0  \n",
       "48           0.0         30.0          2.0  \n",
       "50           0.0        120.0          8.0  \n",
       "67           0.0         30.0          2.0  \n",
       "74           0.0         90.0          6.0  \n",
       "81           0.0         15.0          1.0  \n",
       "88           0.0         60.0          4.0  \n",
       "94           0.0         15.0          1.0  \n",
       "99           0.0         75.0          5.0  \n",
       "\n",
       "[19 rows x 474 columns]"
      ]
     },
     "execution_count": 64,
     "metadata": {},
     "output_type": "execute_result"
    }
   ],
   "source": [
    "df[(df['U_OB_SMS_CNT_T6'] < sms_e1) | (df['U_OB_SMS_CNT_T6'] > sms_e2)]"
   ]
  },
  {
   "cell_type": "markdown",
   "metadata": {},
   "source": [
    "Detect outlier of GPRS"
   ]
  },
  {
   "cell_type": "code",
   "execution_count": 65,
   "metadata": {},
   "outputs": [
    {
     "data": {
      "text/plain": [
       "array([ 0.  , 46.75])"
      ]
     },
     "execution_count": 65,
     "metadata": {},
     "output_type": "execute_result"
    }
   ],
   "source": [
    "np.percentile(df['U_GPRS_VOL_T6'], [25, 75])"
   ]
  },
  {
   "cell_type": "code",
   "execution_count": 66,
   "metadata": {},
   "outputs": [],
   "source": [
    "gprs_q1, gprs_q3 = df['U_GPRS_VOL_T6'].quantile([0.25, 0.75]).values\n",
    "iqr = gprs_q3 - gprs_q1\n",
    "gprs_e1 = (gprs_q1 - (1.5*iqr))\n",
    "gprs_e2 = (gprs_q3 + (1.5*iqr))"
   ]
  },
  {
   "cell_type": "code",
   "execution_count": 67,
   "metadata": {},
   "outputs": [
    {
     "data": {
      "text/plain": [
       "(-70.125, 116.875)"
      ]
     },
     "execution_count": 67,
     "metadata": {},
     "output_type": "execute_result"
    }
   ],
   "source": [
    "gprs_e1, gprs_e2"
   ]
  },
  {
   "cell_type": "code",
   "execution_count": 68,
   "metadata": {},
   "outputs": [
    {
     "data": {
      "text/html": [
       "<div>\n",
       "<style scoped>\n",
       "    .dataframe tbody tr th:only-of-type {\n",
       "        vertical-align: middle;\n",
       "    }\n",
       "\n",
       "    .dataframe tbody tr th {\n",
       "        vertical-align: top;\n",
       "    }\n",
       "\n",
       "    .dataframe thead th {\n",
       "        text-align: right;\n",
       "    }\n",
       "</style>\n",
       "<table border=\"1\" class=\"dataframe\">\n",
       "  <thead>\n",
       "    <tr style=\"text-align: right;\">\n",
       "      <th></th>\n",
       "      <th>Customer ID</th>\n",
       "      <th>U_OB_VC_CNT_T6</th>\n",
       "      <th>U_OB_VC_CC_CNT_T6</th>\n",
       "      <th>U_OB_VC_DUR_T6</th>\n",
       "      <th>U_OB_VC_REV_T6</th>\n",
       "      <th>U_OB_DAY_VC_CNT_T6</th>\n",
       "      <th>U_OB_DAY_VC_CC_CNT_T6</th>\n",
       "      <th>U_OB_DAY_VC_DUR_T6</th>\n",
       "      <th>U_OB_DAY_VC_REV_T6</th>\n",
       "      <th>U_OB_EVN_VC_CNT_T6</th>\n",
       "      <th>...</th>\n",
       "      <th>RECH_750_1000_AMT_T6</th>\n",
       "      <th>RECH_750_1000_CNT_T6</th>\n",
       "      <th>RECH_GT_1000_AMT_T6</th>\n",
       "      <th>RECH_GT_1000_CNT_T6</th>\n",
       "      <th>RECEIVE_AMT_T6</th>\n",
       "      <th>RECEIVE_CNT_T6</th>\n",
       "      <th>SHARE_AMT_T6</th>\n",
       "      <th>SHARE_CNT_T6</th>\n",
       "      <th>LOAN_AMT_T6</th>\n",
       "      <th>LOAN_CNT_T6</th>\n",
       "    </tr>\n",
       "  </thead>\n",
       "  <tbody>\n",
       "    <tr>\n",
       "      <th>1</th>\n",
       "      <td>2</td>\n",
       "      <td>41</td>\n",
       "      <td>38</td>\n",
       "      <td>132.5</td>\n",
       "      <td>137.276</td>\n",
       "      <td>17</td>\n",
       "      <td>14</td>\n",
       "      <td>65.0</td>\n",
       "      <td>77.824</td>\n",
       "      <td>23</td>\n",
       "      <td>...</td>\n",
       "      <td>0.0</td>\n",
       "      <td>0.0</td>\n",
       "      <td>0.0</td>\n",
       "      <td>0.0</td>\n",
       "      <td>25.5230</td>\n",
       "      <td>1.0</td>\n",
       "      <td>0.0000</td>\n",
       "      <td>0.0</td>\n",
       "      <td>60.0</td>\n",
       "      <td>4.0</td>\n",
       "    </tr>\n",
       "    <tr>\n",
       "      <th>7</th>\n",
       "      <td>8</td>\n",
       "      <td>680</td>\n",
       "      <td>398</td>\n",
       "      <td>1450.0</td>\n",
       "      <td>0.000</td>\n",
       "      <td>475</td>\n",
       "      <td>292</td>\n",
       "      <td>818.5</td>\n",
       "      <td>0.000</td>\n",
       "      <td>197</td>\n",
       "      <td>...</td>\n",
       "      <td>0.0</td>\n",
       "      <td>0.0</td>\n",
       "      <td>0.0</td>\n",
       "      <td>0.0</td>\n",
       "      <td>0.0000</td>\n",
       "      <td>0.0</td>\n",
       "      <td>18.1825</td>\n",
       "      <td>1.0</td>\n",
       "      <td>0.0</td>\n",
       "      <td>0.0</td>\n",
       "    </tr>\n",
       "    <tr>\n",
       "      <th>10</th>\n",
       "      <td>11</td>\n",
       "      <td>203</td>\n",
       "      <td>134</td>\n",
       "      <td>1527.0</td>\n",
       "      <td>121.053</td>\n",
       "      <td>89</td>\n",
       "      <td>71</td>\n",
       "      <td>413.0</td>\n",
       "      <td>96.851</td>\n",
       "      <td>111</td>\n",
       "      <td>...</td>\n",
       "      <td>0.0</td>\n",
       "      <td>0.0</td>\n",
       "      <td>0.0</td>\n",
       "      <td>0.0</td>\n",
       "      <td>0.0000</td>\n",
       "      <td>0.0</td>\n",
       "      <td>0.0000</td>\n",
       "      <td>0.0</td>\n",
       "      <td>90.0</td>\n",
       "      <td>6.0</td>\n",
       "    </tr>\n",
       "    <tr>\n",
       "      <th>12</th>\n",
       "      <td>13</td>\n",
       "      <td>223</td>\n",
       "      <td>157</td>\n",
       "      <td>518.0</td>\n",
       "      <td>9.560</td>\n",
       "      <td>113</td>\n",
       "      <td>81</td>\n",
       "      <td>202.0</td>\n",
       "      <td>0.000</td>\n",
       "      <td>63</td>\n",
       "      <td>...</td>\n",
       "      <td>0.0</td>\n",
       "      <td>0.0</td>\n",
       "      <td>0.0</td>\n",
       "      <td>0.0</td>\n",
       "      <td>0.0000</td>\n",
       "      <td>0.0</td>\n",
       "      <td>0.0000</td>\n",
       "      <td>0.0</td>\n",
       "      <td>0.0</td>\n",
       "      <td>0.0</td>\n",
       "    </tr>\n",
       "    <tr>\n",
       "      <th>14</th>\n",
       "      <td>15</td>\n",
       "      <td>307</td>\n",
       "      <td>175</td>\n",
       "      <td>610.0</td>\n",
       "      <td>0.000</td>\n",
       "      <td>239</td>\n",
       "      <td>139</td>\n",
       "      <td>424.0</td>\n",
       "      <td>0.000</td>\n",
       "      <td>64</td>\n",
       "      <td>...</td>\n",
       "      <td>NaN</td>\n",
       "      <td>NaN</td>\n",
       "      <td>NaN</td>\n",
       "      <td>NaN</td>\n",
       "      <td>NaN</td>\n",
       "      <td>NaN</td>\n",
       "      <td>NaN</td>\n",
       "      <td>NaN</td>\n",
       "      <td>NaN</td>\n",
       "      <td>NaN</td>\n",
       "    </tr>\n",
       "    <tr>\n",
       "      <th>18</th>\n",
       "      <td>19</td>\n",
       "      <td>116</td>\n",
       "      <td>54</td>\n",
       "      <td>1580.0</td>\n",
       "      <td>89.433</td>\n",
       "      <td>32</td>\n",
       "      <td>24</td>\n",
       "      <td>214.0</td>\n",
       "      <td>34.395</td>\n",
       "      <td>54</td>\n",
       "      <td>...</td>\n",
       "      <td>0.0</td>\n",
       "      <td>0.0</td>\n",
       "      <td>0.0</td>\n",
       "      <td>0.0</td>\n",
       "      <td>0.0000</td>\n",
       "      <td>0.0</td>\n",
       "      <td>0.0000</td>\n",
       "      <td>0.0</td>\n",
       "      <td>105.0</td>\n",
       "      <td>7.0</td>\n",
       "    </tr>\n",
       "    <tr>\n",
       "      <th>27</th>\n",
       "      <td>28</td>\n",
       "      <td>229</td>\n",
       "      <td>151</td>\n",
       "      <td>498.0</td>\n",
       "      <td>6.000</td>\n",
       "      <td>145</td>\n",
       "      <td>105</td>\n",
       "      <td>296.0</td>\n",
       "      <td>6.000</td>\n",
       "      <td>70</td>\n",
       "      <td>...</td>\n",
       "      <td>0.0</td>\n",
       "      <td>0.0</td>\n",
       "      <td>0.0</td>\n",
       "      <td>0.0</td>\n",
       "      <td>0.0000</td>\n",
       "      <td>0.0</td>\n",
       "      <td>0.0000</td>\n",
       "      <td>0.0</td>\n",
       "      <td>0.0</td>\n",
       "      <td>0.0</td>\n",
       "    </tr>\n",
       "    <tr>\n",
       "      <th>28</th>\n",
       "      <td>29</td>\n",
       "      <td>44</td>\n",
       "      <td>33</td>\n",
       "      <td>222.0</td>\n",
       "      <td>34.147</td>\n",
       "      <td>41</td>\n",
       "      <td>30</td>\n",
       "      <td>220.0</td>\n",
       "      <td>22.149</td>\n",
       "      <td>2</td>\n",
       "      <td>...</td>\n",
       "      <td>0.0</td>\n",
       "      <td>0.0</td>\n",
       "      <td>0.0</td>\n",
       "      <td>0.0</td>\n",
       "      <td>21.8528</td>\n",
       "      <td>1.0</td>\n",
       "      <td>0.0000</td>\n",
       "      <td>0.0</td>\n",
       "      <td>60.0</td>\n",
       "      <td>4.0</td>\n",
       "    </tr>\n",
       "    <tr>\n",
       "      <th>36</th>\n",
       "      <td>37</td>\n",
       "      <td>106</td>\n",
       "      <td>61</td>\n",
       "      <td>209.0</td>\n",
       "      <td>12.547</td>\n",
       "      <td>61</td>\n",
       "      <td>39</td>\n",
       "      <td>113.0</td>\n",
       "      <td>5.079</td>\n",
       "      <td>24</td>\n",
       "      <td>...</td>\n",
       "      <td>0.0</td>\n",
       "      <td>0.0</td>\n",
       "      <td>0.0</td>\n",
       "      <td>0.0</td>\n",
       "      <td>0.0000</td>\n",
       "      <td>0.0</td>\n",
       "      <td>0.0000</td>\n",
       "      <td>0.0</td>\n",
       "      <td>15.0</td>\n",
       "      <td>1.0</td>\n",
       "    </tr>\n",
       "    <tr>\n",
       "      <th>39</th>\n",
       "      <td>40</td>\n",
       "      <td>657</td>\n",
       "      <td>388</td>\n",
       "      <td>868.0</td>\n",
       "      <td>0.000</td>\n",
       "      <td>339</td>\n",
       "      <td>230</td>\n",
       "      <td>450.0</td>\n",
       "      <td>0.000</td>\n",
       "      <td>212</td>\n",
       "      <td>...</td>\n",
       "      <td>NaN</td>\n",
       "      <td>NaN</td>\n",
       "      <td>NaN</td>\n",
       "      <td>NaN</td>\n",
       "      <td>NaN</td>\n",
       "      <td>NaN</td>\n",
       "      <td>NaN</td>\n",
       "      <td>NaN</td>\n",
       "      <td>NaN</td>\n",
       "      <td>NaN</td>\n",
       "    </tr>\n",
       "    <tr>\n",
       "      <th>40</th>\n",
       "      <td>41</td>\n",
       "      <td>384</td>\n",
       "      <td>265</td>\n",
       "      <td>1021.0</td>\n",
       "      <td>95.411</td>\n",
       "      <td>205</td>\n",
       "      <td>156</td>\n",
       "      <td>523.0</td>\n",
       "      <td>19.110</td>\n",
       "      <td>162</td>\n",
       "      <td>...</td>\n",
       "      <td>0.0</td>\n",
       "      <td>0.0</td>\n",
       "      <td>0.0</td>\n",
       "      <td>0.0</td>\n",
       "      <td>0.0000</td>\n",
       "      <td>0.0</td>\n",
       "      <td>0.0000</td>\n",
       "      <td>0.0</td>\n",
       "      <td>45.0</td>\n",
       "      <td>3.0</td>\n",
       "    </tr>\n",
       "    <tr>\n",
       "      <th>47</th>\n",
       "      <td>48</td>\n",
       "      <td>193</td>\n",
       "      <td>134</td>\n",
       "      <td>397.5</td>\n",
       "      <td>56.967</td>\n",
       "      <td>114</td>\n",
       "      <td>87</td>\n",
       "      <td>237.0</td>\n",
       "      <td>30.365</td>\n",
       "      <td>74</td>\n",
       "      <td>...</td>\n",
       "      <td>0.0</td>\n",
       "      <td>0.0</td>\n",
       "      <td>0.0</td>\n",
       "      <td>0.0</td>\n",
       "      <td>0.0000</td>\n",
       "      <td>0.0</td>\n",
       "      <td>0.0000</td>\n",
       "      <td>0.0</td>\n",
       "      <td>15.0</td>\n",
       "      <td>1.0</td>\n",
       "    </tr>\n",
       "    <tr>\n",
       "      <th>72</th>\n",
       "      <td>73</td>\n",
       "      <td>132</td>\n",
       "      <td>80</td>\n",
       "      <td>153.5</td>\n",
       "      <td>221.213</td>\n",
       "      <td>81</td>\n",
       "      <td>45</td>\n",
       "      <td>98.5</td>\n",
       "      <td>97.130</td>\n",
       "      <td>47</td>\n",
       "      <td>...</td>\n",
       "      <td>0.0</td>\n",
       "      <td>0.0</td>\n",
       "      <td>0.0</td>\n",
       "      <td>0.0</td>\n",
       "      <td>0.0000</td>\n",
       "      <td>0.0</td>\n",
       "      <td>0.0000</td>\n",
       "      <td>0.0</td>\n",
       "      <td>0.0</td>\n",
       "      <td>0.0</td>\n",
       "    </tr>\n",
       "    <tr>\n",
       "      <th>73</th>\n",
       "      <td>74</td>\n",
       "      <td>205</td>\n",
       "      <td>105</td>\n",
       "      <td>1085.0</td>\n",
       "      <td>41.381</td>\n",
       "      <td>104</td>\n",
       "      <td>60</td>\n",
       "      <td>625.0</td>\n",
       "      <td>24.141</td>\n",
       "      <td>73</td>\n",
       "      <td>...</td>\n",
       "      <td>0.0</td>\n",
       "      <td>0.0</td>\n",
       "      <td>0.0</td>\n",
       "      <td>0.0</td>\n",
       "      <td>0.0000</td>\n",
       "      <td>0.0</td>\n",
       "      <td>0.0000</td>\n",
       "      <td>0.0</td>\n",
       "      <td>15.0</td>\n",
       "      <td>1.0</td>\n",
       "    </tr>\n",
       "    <tr>\n",
       "      <th>83</th>\n",
       "      <td>84</td>\n",
       "      <td>35</td>\n",
       "      <td>27</td>\n",
       "      <td>114.0</td>\n",
       "      <td>12.076</td>\n",
       "      <td>22</td>\n",
       "      <td>20</td>\n",
       "      <td>82.5</td>\n",
       "      <td>12.076</td>\n",
       "      <td>9</td>\n",
       "      <td>...</td>\n",
       "      <td>0.0</td>\n",
       "      <td>0.0</td>\n",
       "      <td>0.0</td>\n",
       "      <td>0.0</td>\n",
       "      <td>0.0000</td>\n",
       "      <td>0.0</td>\n",
       "      <td>0.0000</td>\n",
       "      <td>0.0</td>\n",
       "      <td>0.0</td>\n",
       "      <td>0.0</td>\n",
       "    </tr>\n",
       "    <tr>\n",
       "      <th>88</th>\n",
       "      <td>89</td>\n",
       "      <td>75</td>\n",
       "      <td>45</td>\n",
       "      <td>127.0</td>\n",
       "      <td>48.637</td>\n",
       "      <td>27</td>\n",
       "      <td>19</td>\n",
       "      <td>42.0</td>\n",
       "      <td>21.809</td>\n",
       "      <td>47</td>\n",
       "      <td>...</td>\n",
       "      <td>0.0</td>\n",
       "      <td>0.0</td>\n",
       "      <td>0.0</td>\n",
       "      <td>0.0</td>\n",
       "      <td>58.3866</td>\n",
       "      <td>2.0</td>\n",
       "      <td>0.0000</td>\n",
       "      <td>0.0</td>\n",
       "      <td>60.0</td>\n",
       "      <td>4.0</td>\n",
       "    </tr>\n",
       "    <tr>\n",
       "      <th>89</th>\n",
       "      <td>90</td>\n",
       "      <td>609</td>\n",
       "      <td>381</td>\n",
       "      <td>948.0</td>\n",
       "      <td>0.000</td>\n",
       "      <td>402</td>\n",
       "      <td>285</td>\n",
       "      <td>633.0</td>\n",
       "      <td>0.000</td>\n",
       "      <td>197</td>\n",
       "      <td>...</td>\n",
       "      <td>0.0</td>\n",
       "      <td>0.0</td>\n",
       "      <td>2190.0</td>\n",
       "      <td>1.0</td>\n",
       "      <td>0.0000</td>\n",
       "      <td>0.0</td>\n",
       "      <td>0.0000</td>\n",
       "      <td>0.0</td>\n",
       "      <td>0.0</td>\n",
       "      <td>0.0</td>\n",
       "    </tr>\n",
       "    <tr>\n",
       "      <th>98</th>\n",
       "      <td>99</td>\n",
       "      <td>194</td>\n",
       "      <td>72</td>\n",
       "      <td>296.0</td>\n",
       "      <td>176.593</td>\n",
       "      <td>30</td>\n",
       "      <td>19</td>\n",
       "      <td>33.0</td>\n",
       "      <td>20.677</td>\n",
       "      <td>133</td>\n",
       "      <td>...</td>\n",
       "      <td>0.0</td>\n",
       "      <td>0.0</td>\n",
       "      <td>0.0</td>\n",
       "      <td>0.0</td>\n",
       "      <td>0.0000</td>\n",
       "      <td>0.0</td>\n",
       "      <td>0.0000</td>\n",
       "      <td>0.0</td>\n",
       "      <td>15.0</td>\n",
       "      <td>1.0</td>\n",
       "    </tr>\n",
       "  </tbody>\n",
       "</table>\n",
       "<p>18 rows × 474 columns</p>\n",
       "</div>"
      ],
      "text/plain": [
       "    Customer ID  U_OB_VC_CNT_T6  U_OB_VC_CC_CNT_T6  U_OB_VC_DUR_T6  \\\n",
       "1             2              41                 38           132.5   \n",
       "7             8             680                398          1450.0   \n",
       "10           11             203                134          1527.0   \n",
       "12           13             223                157           518.0   \n",
       "14           15             307                175           610.0   \n",
       "18           19             116                 54          1580.0   \n",
       "27           28             229                151           498.0   \n",
       "28           29              44                 33           222.0   \n",
       "36           37             106                 61           209.0   \n",
       "39           40             657                388           868.0   \n",
       "40           41             384                265          1021.0   \n",
       "47           48             193                134           397.5   \n",
       "72           73             132                 80           153.5   \n",
       "73           74             205                105          1085.0   \n",
       "83           84              35                 27           114.0   \n",
       "88           89              75                 45           127.0   \n",
       "89           90             609                381           948.0   \n",
       "98           99             194                 72           296.0   \n",
       "\n",
       "    U_OB_VC_REV_T6  U_OB_DAY_VC_CNT_T6  U_OB_DAY_VC_CC_CNT_T6  \\\n",
       "1          137.276                  17                     14   \n",
       "7            0.000                 475                    292   \n",
       "10         121.053                  89                     71   \n",
       "12           9.560                 113                     81   \n",
       "14           0.000                 239                    139   \n",
       "18          89.433                  32                     24   \n",
       "27           6.000                 145                    105   \n",
       "28          34.147                  41                     30   \n",
       "36          12.547                  61                     39   \n",
       "39           0.000                 339                    230   \n",
       "40          95.411                 205                    156   \n",
       "47          56.967                 114                     87   \n",
       "72         221.213                  81                     45   \n",
       "73          41.381                 104                     60   \n",
       "83          12.076                  22                     20   \n",
       "88          48.637                  27                     19   \n",
       "89           0.000                 402                    285   \n",
       "98         176.593                  30                     19   \n",
       "\n",
       "    U_OB_DAY_VC_DUR_T6  U_OB_DAY_VC_REV_T6  U_OB_EVN_VC_CNT_T6     ...       \\\n",
       "1                 65.0              77.824                  23     ...        \n",
       "7                818.5               0.000                 197     ...        \n",
       "10               413.0              96.851                 111     ...        \n",
       "12               202.0               0.000                  63     ...        \n",
       "14               424.0               0.000                  64     ...        \n",
       "18               214.0              34.395                  54     ...        \n",
       "27               296.0               6.000                  70     ...        \n",
       "28               220.0              22.149                   2     ...        \n",
       "36               113.0               5.079                  24     ...        \n",
       "39               450.0               0.000                 212     ...        \n",
       "40               523.0              19.110                 162     ...        \n",
       "47               237.0              30.365                  74     ...        \n",
       "72                98.5              97.130                  47     ...        \n",
       "73               625.0              24.141                  73     ...        \n",
       "83                82.5              12.076                   9     ...        \n",
       "88                42.0              21.809                  47     ...        \n",
       "89               633.0               0.000                 197     ...        \n",
       "98                33.0              20.677                 133     ...        \n",
       "\n",
       "    RECH_750_1000_AMT_T6  RECH_750_1000_CNT_T6  RECH_GT_1000_AMT_T6  \\\n",
       "1                    0.0                   0.0                  0.0   \n",
       "7                    0.0                   0.0                  0.0   \n",
       "10                   0.0                   0.0                  0.0   \n",
       "12                   0.0                   0.0                  0.0   \n",
       "14                   NaN                   NaN                  NaN   \n",
       "18                   0.0                   0.0                  0.0   \n",
       "27                   0.0                   0.0                  0.0   \n",
       "28                   0.0                   0.0                  0.0   \n",
       "36                   0.0                   0.0                  0.0   \n",
       "39                   NaN                   NaN                  NaN   \n",
       "40                   0.0                   0.0                  0.0   \n",
       "47                   0.0                   0.0                  0.0   \n",
       "72                   0.0                   0.0                  0.0   \n",
       "73                   0.0                   0.0                  0.0   \n",
       "83                   0.0                   0.0                  0.0   \n",
       "88                   0.0                   0.0                  0.0   \n",
       "89                   0.0                   0.0               2190.0   \n",
       "98                   0.0                   0.0                  0.0   \n",
       "\n",
       "    RECH_GT_1000_CNT_T6  RECEIVE_AMT_T6  RECEIVE_CNT_T6  SHARE_AMT_T6  \\\n",
       "1                   0.0         25.5230             1.0        0.0000   \n",
       "7                   0.0          0.0000             0.0       18.1825   \n",
       "10                  0.0          0.0000             0.0        0.0000   \n",
       "12                  0.0          0.0000             0.0        0.0000   \n",
       "14                  NaN             NaN             NaN           NaN   \n",
       "18                  0.0          0.0000             0.0        0.0000   \n",
       "27                  0.0          0.0000             0.0        0.0000   \n",
       "28                  0.0         21.8528             1.0        0.0000   \n",
       "36                  0.0          0.0000             0.0        0.0000   \n",
       "39                  NaN             NaN             NaN           NaN   \n",
       "40                  0.0          0.0000             0.0        0.0000   \n",
       "47                  0.0          0.0000             0.0        0.0000   \n",
       "72                  0.0          0.0000             0.0        0.0000   \n",
       "73                  0.0          0.0000             0.0        0.0000   \n",
       "83                  0.0          0.0000             0.0        0.0000   \n",
       "88                  0.0         58.3866             2.0        0.0000   \n",
       "89                  1.0          0.0000             0.0        0.0000   \n",
       "98                  0.0          0.0000             0.0        0.0000   \n",
       "\n",
       "    SHARE_CNT_T6  LOAN_AMT_T6  LOAN_CNT_T6  \n",
       "1            0.0         60.0          4.0  \n",
       "7            1.0          0.0          0.0  \n",
       "10           0.0         90.0          6.0  \n",
       "12           0.0          0.0          0.0  \n",
       "14           NaN          NaN          NaN  \n",
       "18           0.0        105.0          7.0  \n",
       "27           0.0          0.0          0.0  \n",
       "28           0.0         60.0          4.0  \n",
       "36           0.0         15.0          1.0  \n",
       "39           NaN          NaN          NaN  \n",
       "40           0.0         45.0          3.0  \n",
       "47           0.0         15.0          1.0  \n",
       "72           0.0          0.0          0.0  \n",
       "73           0.0         15.0          1.0  \n",
       "83           0.0          0.0          0.0  \n",
       "88           0.0         60.0          4.0  \n",
       "89           0.0          0.0          0.0  \n",
       "98           0.0         15.0          1.0  \n",
       "\n",
       "[18 rows x 474 columns]"
      ]
     },
     "execution_count": 68,
     "metadata": {},
     "output_type": "execute_result"
    }
   ],
   "source": [
    "df[(df['U_GPRS_VOL_T6'] < gprs_e1) | (df['U_GPRS_VOL_T6'] > gprs_e2) ]"
   ]
  },
  {
   "cell_type": "markdown",
   "metadata": {},
   "source": [
    "Detect outlier of Recharge"
   ]
  },
  {
   "cell_type": "code",
   "execution_count": 69,
   "metadata": {},
   "outputs": [
    {
     "name": "stderr",
     "output_type": "stream",
     "text": [
      "/Users/abdul/anaconda3/lib/python3.7/site-packages/numpy/lib/function_base.py:3652: RuntimeWarning:\n",
      "\n",
      "Invalid value encountered in percentile\n",
      "\n"
     ]
    },
    {
     "data": {
      "text/plain": [
       "array([nan, nan])"
      ]
     },
     "execution_count": 69,
     "metadata": {},
     "output_type": "execute_result"
    }
   ],
   "source": [
    "np.percentile(df['RECH_CNT_T6'], [25, 75])"
   ]
  },
  {
   "cell_type": "code",
   "execution_count": 70,
   "metadata": {},
   "outputs": [],
   "source": [
    "rech_q1, rech_q3 = df['RECH_CNT_T6'].quantile([0.25, 0.75]).values\n",
    "iqr = rech_q3 - rech_q1\n",
    "rech_e1 = (rech_q1 - (1.5*iqr))\n",
    "rech_e2 = (rech_q3 + (1.5*iqr))"
   ]
  },
  {
   "cell_type": "code",
   "execution_count": 71,
   "metadata": {},
   "outputs": [
    {
     "data": {
      "text/plain": [
       "(-5.75, 16.25)"
      ]
     },
     "execution_count": 71,
     "metadata": {},
     "output_type": "execute_result"
    }
   ],
   "source": [
    "rech_e1, rech_e2"
   ]
  },
  {
   "cell_type": "code",
   "execution_count": 72,
   "metadata": {},
   "outputs": [
    {
     "data": {
      "text/html": [
       "<div>\n",
       "<style scoped>\n",
       "    .dataframe tbody tr th:only-of-type {\n",
       "        vertical-align: middle;\n",
       "    }\n",
       "\n",
       "    .dataframe tbody tr th {\n",
       "        vertical-align: top;\n",
       "    }\n",
       "\n",
       "    .dataframe thead th {\n",
       "        text-align: right;\n",
       "    }\n",
       "</style>\n",
       "<table border=\"1\" class=\"dataframe\">\n",
       "  <thead>\n",
       "    <tr style=\"text-align: right;\">\n",
       "      <th></th>\n",
       "      <th>Customer ID</th>\n",
       "      <th>U_OB_VC_CNT_T6</th>\n",
       "      <th>U_OB_VC_CC_CNT_T6</th>\n",
       "      <th>U_OB_VC_DUR_T6</th>\n",
       "      <th>U_OB_VC_REV_T6</th>\n",
       "      <th>U_OB_DAY_VC_CNT_T6</th>\n",
       "      <th>U_OB_DAY_VC_CC_CNT_T6</th>\n",
       "      <th>U_OB_DAY_VC_DUR_T6</th>\n",
       "      <th>U_OB_DAY_VC_REV_T6</th>\n",
       "      <th>U_OB_EVN_VC_CNT_T6</th>\n",
       "      <th>...</th>\n",
       "      <th>RECH_750_1000_AMT_T6</th>\n",
       "      <th>RECH_750_1000_CNT_T6</th>\n",
       "      <th>RECH_GT_1000_AMT_T6</th>\n",
       "      <th>RECH_GT_1000_CNT_T6</th>\n",
       "      <th>RECEIVE_AMT_T6</th>\n",
       "      <th>RECEIVE_CNT_T6</th>\n",
       "      <th>SHARE_AMT_T6</th>\n",
       "      <th>SHARE_CNT_T6</th>\n",
       "      <th>LOAN_AMT_T6</th>\n",
       "      <th>LOAN_CNT_T6</th>\n",
       "    </tr>\n",
       "  </thead>\n",
       "  <tbody>\n",
       "    <tr>\n",
       "      <th>42</th>\n",
       "      <td>43</td>\n",
       "      <td>364</td>\n",
       "      <td>173</td>\n",
       "      <td>953.0</td>\n",
       "      <td>303.422</td>\n",
       "      <td>151</td>\n",
       "      <td>96</td>\n",
       "      <td>438.5</td>\n",
       "      <td>125.106</td>\n",
       "      <td>211</td>\n",
       "      <td>...</td>\n",
       "      <td>0.0</td>\n",
       "      <td>0.0</td>\n",
       "      <td>0.0</td>\n",
       "      <td>0.0</td>\n",
       "      <td>0.0</td>\n",
       "      <td>0.0</td>\n",
       "      <td>0.0</td>\n",
       "      <td>0.0</td>\n",
       "      <td>105.0</td>\n",
       "      <td>7.0</td>\n",
       "    </tr>\n",
       "    <tr>\n",
       "      <th>58</th>\n",
       "      <td>59</td>\n",
       "      <td>665</td>\n",
       "      <td>270</td>\n",
       "      <td>1142.0</td>\n",
       "      <td>2570.612</td>\n",
       "      <td>320</td>\n",
       "      <td>175</td>\n",
       "      <td>516.0</td>\n",
       "      <td>1178.275</td>\n",
       "      <td>247</td>\n",
       "      <td>...</td>\n",
       "      <td>0.0</td>\n",
       "      <td>0.0</td>\n",
       "      <td>0.0</td>\n",
       "      <td>0.0</td>\n",
       "      <td>0.0</td>\n",
       "      <td>0.0</td>\n",
       "      <td>0.0</td>\n",
       "      <td>0.0</td>\n",
       "      <td>120.0</td>\n",
       "      <td>8.0</td>\n",
       "    </tr>\n",
       "  </tbody>\n",
       "</table>\n",
       "<p>2 rows × 474 columns</p>\n",
       "</div>"
      ],
      "text/plain": [
       "    Customer ID  U_OB_VC_CNT_T6  U_OB_VC_CC_CNT_T6  U_OB_VC_DUR_T6  \\\n",
       "42           43             364                173           953.0   \n",
       "58           59             665                270          1142.0   \n",
       "\n",
       "    U_OB_VC_REV_T6  U_OB_DAY_VC_CNT_T6  U_OB_DAY_VC_CC_CNT_T6  \\\n",
       "42         303.422                 151                     96   \n",
       "58        2570.612                 320                    175   \n",
       "\n",
       "    U_OB_DAY_VC_DUR_T6  U_OB_DAY_VC_REV_T6  U_OB_EVN_VC_CNT_T6     ...       \\\n",
       "42               438.5             125.106                 211     ...        \n",
       "58               516.0            1178.275                 247     ...        \n",
       "\n",
       "    RECH_750_1000_AMT_T6  RECH_750_1000_CNT_T6  RECH_GT_1000_AMT_T6  \\\n",
       "42                   0.0                   0.0                  0.0   \n",
       "58                   0.0                   0.0                  0.0   \n",
       "\n",
       "    RECH_GT_1000_CNT_T6  RECEIVE_AMT_T6  RECEIVE_CNT_T6  SHARE_AMT_T6  \\\n",
       "42                  0.0             0.0             0.0           0.0   \n",
       "58                  0.0             0.0             0.0           0.0   \n",
       "\n",
       "    SHARE_CNT_T6  LOAN_AMT_T6  LOAN_CNT_T6  \n",
       "42           0.0        105.0          7.0  \n",
       "58           0.0        120.0          8.0  \n",
       "\n",
       "[2 rows x 474 columns]"
      ]
     },
     "execution_count": 72,
     "metadata": {},
     "output_type": "execute_result"
    }
   ],
   "source": [
    "df[(df['RECH_CNT_T6'] < rech_e1) | (df['RECH_CNT_T6'] >  rech_e2)]"
   ]
  },
  {
   "cell_type": "code",
   "execution_count": 73,
   "metadata": {},
   "outputs": [],
   "source": [
    "#df.to_excel('test.xlsx')"
   ]
  },
  {
   "cell_type": "markdown",
   "metadata": {},
   "source": [
    "<h4 style=\"color:red;\">Task 6 : Removed variables with constant values (0) </h4>   "
   ]
  },
  {
   "cell_type": "code",
   "execution_count": 74,
   "metadata": {},
   "outputs": [
    {
     "data": {
      "text/plain": [
       "(100, 474)"
      ]
     },
     "execution_count": 74,
     "metadata": {},
     "output_type": "execute_result"
    }
   ],
   "source": [
    "df.shape"
   ]
  },
  {
   "cell_type": "code",
   "execution_count": 75,
   "metadata": {},
   "outputs": [],
   "source": [
    "df.fillna(0, inplace=True)"
   ]
  },
  {
   "cell_type": "code",
   "execution_count": 76,
   "metadata": {},
   "outputs": [],
   "source": [
    "#df.loc[(df!=0).any(1), (df!=0).any(0)]\n",
    "#df[~np.all(df == 0, axis=1)]\n",
    "#df.dropna(inplace=True)\n",
    "df = df.loc[:,(df!=df.iloc[0]).any()]"
   ]
  },
  {
   "cell_type": "code",
   "execution_count": 77,
   "metadata": {},
   "outputs": [
    {
     "data": {
      "text/plain": [
       "(100, 382)"
      ]
     },
     "execution_count": 77,
     "metadata": {},
     "output_type": "execute_result"
    }
   ],
   "source": [
    "df.shape"
   ]
  },
  {
   "cell_type": "markdown",
   "metadata": {},
   "source": [
    "<h4 style=\"color:red;\">Task 7 : Generate Correlation Matrix and Removed collinearity at a cutoff value of 0.9  </h4>"
   ]
  },
  {
   "cell_type": "code",
   "execution_count": 78,
   "metadata": {},
   "outputs": [],
   "source": [
    "#corr = df.corr().abs()\n"
   ]
  },
  {
   "cell_type": "code",
   "execution_count": 79,
   "metadata": {},
   "outputs": [],
   "source": [
    "#upper = corr.where(np.triu(np.ones(corr.shape), k=1).astype(np.bool))"
   ]
  },
  {
   "cell_type": "code",
   "execution_count": 80,
   "metadata": {},
   "outputs": [],
   "source": [
    "#to_drop = [column for column in corr.columns if any(corr[column] > 0.95)]\n",
    "#to_drop"
   ]
  },
  {
   "cell_type": "code",
   "execution_count": 81,
   "metadata": {},
   "outputs": [],
   "source": [
    "#df.drop(df.columns[to_drop], axis=1)\n",
    "#df.head()"
   ]
  },
  {
   "cell_type": "code",
   "execution_count": 82,
   "metadata": {},
   "outputs": [],
   "source": [
    "#sns.set()\n",
    "#plt.figure(figsize=(15,6))\n",
    "#corr = df.corr()\n",
    "#sns.heatmap(corr,annot=True);"
   ]
  },
  {
   "cell_type": "markdown",
   "metadata": {},
   "source": [
    "<h4 style=\"color:red;\">Task 8 : Standardized Min Max Normalization (0-1)  </h4> "
   ]
  },
  {
   "cell_type": "code",
   "execution_count": 83,
   "metadata": {},
   "outputs": [],
   "source": [
    "cols = df[['U_OB_VC_CNT_T6', 'U_OB_SMS_CNT_T6', 'U_GPRS_VOL_T6', 'RECH_CNT_T6']]"
   ]
  },
  {
   "cell_type": "code",
   "execution_count": 84,
   "metadata": {},
   "outputs": [],
   "source": [
    "pred = df.copy()"
   ]
  },
  {
   "cell_type": "code",
   "execution_count": 85,
   "metadata": {},
   "outputs": [],
   "source": [
    "from sklearn.preprocessing import MinMaxScaler"
   ]
  },
  {
   "cell_type": "code",
   "execution_count": 86,
   "metadata": {},
   "outputs": [
    {
     "name": "stderr",
     "output_type": "stream",
     "text": [
      "/Users/abdul/anaconda3/lib/python3.7/site-packages/sklearn/preprocessing/data.py:323: DataConversionWarning:\n",
      "\n",
      "Data with input dtype int64, float64 were all converted to float64 by MinMaxScaler.\n",
      "\n"
     ]
    }
   ],
   "source": [
    "scaler = MinMaxScaler()\n",
    "new = scaler.fit_transform(cols)"
   ]
  },
  {
   "cell_type": "code",
   "execution_count": 87,
   "metadata": {},
   "outputs": [
    {
     "data": {
      "text/plain": [
       "numpy.ndarray"
      ]
     },
     "execution_count": 87,
     "metadata": {},
     "output_type": "execute_result"
    }
   ],
   "source": [
    "type(new)"
   ]
  },
  {
   "cell_type": "code",
   "execution_count": 88,
   "metadata": {},
   "outputs": [
    {
     "data": {
      "text/html": [
       "<div>\n",
       "<style scoped>\n",
       "    .dataframe tbody tr th:only-of-type {\n",
       "        vertical-align: middle;\n",
       "    }\n",
       "\n",
       "    .dataframe tbody tr th {\n",
       "        vertical-align: top;\n",
       "    }\n",
       "\n",
       "    .dataframe thead th {\n",
       "        text-align: right;\n",
       "    }\n",
       "</style>\n",
       "<table border=\"1\" class=\"dataframe\">\n",
       "  <thead>\n",
       "    <tr style=\"text-align: right;\">\n",
       "      <th></th>\n",
       "      <th>U_OB_VC_CNT_T6</th>\n",
       "      <th>U_OB_SMS_CNT_T6</th>\n",
       "      <th>U_GPRS_VOL_T6</th>\n",
       "      <th>RECH_CNT_T6</th>\n",
       "    </tr>\n",
       "  </thead>\n",
       "  <tbody>\n",
       "    <tr>\n",
       "      <th>0</th>\n",
       "      <td>0.164369</td>\n",
       "      <td>0.000000</td>\n",
       "      <td>0.000000</td>\n",
       "      <td>0.285714</td>\n",
       "    </tr>\n",
       "    <tr>\n",
       "      <th>1</th>\n",
       "      <td>0.041357</td>\n",
       "      <td>0.104718</td>\n",
       "      <td>0.000187</td>\n",
       "      <td>0.190476</td>\n",
       "    </tr>\n",
       "    <tr>\n",
       "      <th>2</th>\n",
       "      <td>0.338282</td>\n",
       "      <td>0.000357</td>\n",
       "      <td>0.000009</td>\n",
       "      <td>0.380952</td>\n",
       "    </tr>\n",
       "    <tr>\n",
       "      <th>3</th>\n",
       "      <td>0.009544</td>\n",
       "      <td>0.000000</td>\n",
       "      <td>0.000000</td>\n",
       "      <td>0.142857</td>\n",
       "    </tr>\n",
       "    <tr>\n",
       "      <th>4</th>\n",
       "      <td>0.329799</td>\n",
       "      <td>0.033774</td>\n",
       "      <td>0.000000</td>\n",
       "      <td>0.285714</td>\n",
       "    </tr>\n",
       "  </tbody>\n",
       "</table>\n",
       "</div>"
      ],
      "text/plain": [
       "   U_OB_VC_CNT_T6  U_OB_SMS_CNT_T6  U_GPRS_VOL_T6  RECH_CNT_T6\n",
       "0        0.164369         0.000000       0.000000     0.285714\n",
       "1        0.041357         0.104718       0.000187     0.190476\n",
       "2        0.338282         0.000357       0.000009     0.380952\n",
       "3        0.009544         0.000000       0.000000     0.142857\n",
       "4        0.329799         0.033774       0.000000     0.285714"
      ]
     },
     "execution_count": 88,
     "metadata": {},
     "output_type": "execute_result"
    }
   ],
   "source": [
    "scaled = pd.DataFrame(columns=cols.columns, data=new)\n",
    "scaled.head()"
   ]
  },
  {
   "cell_type": "markdown",
   "metadata": {},
   "source": [
    "<h4 style=\"color:red;\">Task 9 : Perform Kmean Clustering  </h4> "
   ]
  },
  {
   "cell_type": "code",
   "execution_count": 89,
   "metadata": {},
   "outputs": [
    {
     "data": {
      "text/html": [
       "<div>\n",
       "<style scoped>\n",
       "    .dataframe tbody tr th:only-of-type {\n",
       "        vertical-align: middle;\n",
       "    }\n",
       "\n",
       "    .dataframe tbody tr th {\n",
       "        vertical-align: top;\n",
       "    }\n",
       "\n",
       "    .dataframe thead th {\n",
       "        text-align: right;\n",
       "    }\n",
       "</style>\n",
       "<table border=\"1\" class=\"dataframe\">\n",
       "  <thead>\n",
       "    <tr style=\"text-align: right;\">\n",
       "      <th></th>\n",
       "      <th>Customer ID</th>\n",
       "      <th>U_OB_VC_CNT_T6</th>\n",
       "      <th>U_OB_VC_CC_CNT_T6</th>\n",
       "      <th>U_OB_VC_DUR_T6</th>\n",
       "      <th>U_OB_VC_REV_T6</th>\n",
       "      <th>U_OB_DAY_VC_CNT_T6</th>\n",
       "      <th>U_OB_DAY_VC_CC_CNT_T6</th>\n",
       "      <th>U_OB_DAY_VC_DUR_T6</th>\n",
       "      <th>U_OB_DAY_VC_REV_T6</th>\n",
       "      <th>U_OB_EVN_VC_CNT_T6</th>\n",
       "      <th>...</th>\n",
       "      <th>RECH_500_750_CNT_T6</th>\n",
       "      <th>RECH_GT_1000_AMT_T6</th>\n",
       "      <th>RECH_GT_1000_CNT_T6</th>\n",
       "      <th>RECEIVE_AMT_T6</th>\n",
       "      <th>RECEIVE_CNT_T6</th>\n",
       "      <th>SHARE_AMT_T6</th>\n",
       "      <th>SHARE_CNT_T6</th>\n",
       "      <th>LOAN_AMT_T6</th>\n",
       "      <th>LOAN_CNT_T6</th>\n",
       "      <th>kmean</th>\n",
       "    </tr>\n",
       "  </thead>\n",
       "  <tbody>\n",
       "    <tr>\n",
       "      <th>0</th>\n",
       "      <td>1</td>\n",
       "      <td>157</td>\n",
       "      <td>88</td>\n",
       "      <td>379.0</td>\n",
       "      <td>230.070</td>\n",
       "      <td>103</td>\n",
       "      <td>62</td>\n",
       "      <td>207.0</td>\n",
       "      <td>128.794</td>\n",
       "      <td>51</td>\n",
       "      <td>...</td>\n",
       "      <td>0.0</td>\n",
       "      <td>0.0</td>\n",
       "      <td>0.0</td>\n",
       "      <td>0.000</td>\n",
       "      <td>0.0</td>\n",
       "      <td>0.0</td>\n",
       "      <td>0.0</td>\n",
       "      <td>45.0</td>\n",
       "      <td>3.0</td>\n",
       "      <td>0</td>\n",
       "    </tr>\n",
       "    <tr>\n",
       "      <th>1</th>\n",
       "      <td>2</td>\n",
       "      <td>41</td>\n",
       "      <td>38</td>\n",
       "      <td>132.5</td>\n",
       "      <td>137.276</td>\n",
       "      <td>17</td>\n",
       "      <td>14</td>\n",
       "      <td>65.0</td>\n",
       "      <td>77.824</td>\n",
       "      <td>23</td>\n",
       "      <td>...</td>\n",
       "      <td>0.0</td>\n",
       "      <td>0.0</td>\n",
       "      <td>0.0</td>\n",
       "      <td>25.523</td>\n",
       "      <td>1.0</td>\n",
       "      <td>0.0</td>\n",
       "      <td>0.0</td>\n",
       "      <td>60.0</td>\n",
       "      <td>4.0</td>\n",
       "      <td>0</td>\n",
       "    </tr>\n",
       "    <tr>\n",
       "      <th>2</th>\n",
       "      <td>3</td>\n",
       "      <td>321</td>\n",
       "      <td>185</td>\n",
       "      <td>274.5</td>\n",
       "      <td>98.422</td>\n",
       "      <td>249</td>\n",
       "      <td>150</td>\n",
       "      <td>204.0</td>\n",
       "      <td>49.151</td>\n",
       "      <td>69</td>\n",
       "      <td>...</td>\n",
       "      <td>0.0</td>\n",
       "      <td>0.0</td>\n",
       "      <td>0.0</td>\n",
       "      <td>0.000</td>\n",
       "      <td>0.0</td>\n",
       "      <td>0.0</td>\n",
       "      <td>0.0</td>\n",
       "      <td>0.0</td>\n",
       "      <td>0.0</td>\n",
       "      <td>1</td>\n",
       "    </tr>\n",
       "    <tr>\n",
       "      <th>3</th>\n",
       "      <td>4</td>\n",
       "      <td>11</td>\n",
       "      <td>6</td>\n",
       "      <td>172.5</td>\n",
       "      <td>7.587</td>\n",
       "      <td>1</td>\n",
       "      <td>1</td>\n",
       "      <td>2.0</td>\n",
       "      <td>0.149</td>\n",
       "      <td>10</td>\n",
       "      <td>...</td>\n",
       "      <td>0.0</td>\n",
       "      <td>0.0</td>\n",
       "      <td>0.0</td>\n",
       "      <td>0.000</td>\n",
       "      <td>0.0</td>\n",
       "      <td>0.0</td>\n",
       "      <td>0.0</td>\n",
       "      <td>0.0</td>\n",
       "      <td>0.0</td>\n",
       "      <td>0</td>\n",
       "    </tr>\n",
       "    <tr>\n",
       "      <th>4</th>\n",
       "      <td>5</td>\n",
       "      <td>313</td>\n",
       "      <td>220</td>\n",
       "      <td>2888.0</td>\n",
       "      <td>52.915</td>\n",
       "      <td>170</td>\n",
       "      <td>131</td>\n",
       "      <td>791.0</td>\n",
       "      <td>29.699</td>\n",
       "      <td>132</td>\n",
       "      <td>...</td>\n",
       "      <td>0.0</td>\n",
       "      <td>0.0</td>\n",
       "      <td>0.0</td>\n",
       "      <td>0.000</td>\n",
       "      <td>0.0</td>\n",
       "      <td>0.0</td>\n",
       "      <td>0.0</td>\n",
       "      <td>15.0</td>\n",
       "      <td>1.0</td>\n",
       "      <td>0</td>\n",
       "    </tr>\n",
       "  </tbody>\n",
       "</table>\n",
       "<p>5 rows × 383 columns</p>\n",
       "</div>"
      ],
      "text/plain": [
       "   Customer ID  U_OB_VC_CNT_T6  U_OB_VC_CC_CNT_T6  U_OB_VC_DUR_T6  \\\n",
       "0            1             157                 88           379.0   \n",
       "1            2              41                 38           132.5   \n",
       "2            3             321                185           274.5   \n",
       "3            4              11                  6           172.5   \n",
       "4            5             313                220          2888.0   \n",
       "\n",
       "   U_OB_VC_REV_T6  U_OB_DAY_VC_CNT_T6  U_OB_DAY_VC_CC_CNT_T6  \\\n",
       "0         230.070                 103                     62   \n",
       "1         137.276                  17                     14   \n",
       "2          98.422                 249                    150   \n",
       "3           7.587                   1                      1   \n",
       "4          52.915                 170                    131   \n",
       "\n",
       "   U_OB_DAY_VC_DUR_T6  U_OB_DAY_VC_REV_T6  U_OB_EVN_VC_CNT_T6  ...    \\\n",
       "0               207.0             128.794                  51  ...     \n",
       "1                65.0              77.824                  23  ...     \n",
       "2               204.0              49.151                  69  ...     \n",
       "3                 2.0               0.149                  10  ...     \n",
       "4               791.0              29.699                 132  ...     \n",
       "\n",
       "   RECH_500_750_CNT_T6  RECH_GT_1000_AMT_T6  RECH_GT_1000_CNT_T6  \\\n",
       "0                  0.0                  0.0                  0.0   \n",
       "1                  0.0                  0.0                  0.0   \n",
       "2                  0.0                  0.0                  0.0   \n",
       "3                  0.0                  0.0                  0.0   \n",
       "4                  0.0                  0.0                  0.0   \n",
       "\n",
       "   RECEIVE_AMT_T6  RECEIVE_CNT_T6  SHARE_AMT_T6  SHARE_CNT_T6  LOAN_AMT_T6  \\\n",
       "0           0.000             0.0           0.0           0.0         45.0   \n",
       "1          25.523             1.0           0.0           0.0         60.0   \n",
       "2           0.000             0.0           0.0           0.0          0.0   \n",
       "3           0.000             0.0           0.0           0.0          0.0   \n",
       "4           0.000             0.0           0.0           0.0         15.0   \n",
       "\n",
       "   LOAN_CNT_T6  kmean  \n",
       "0          3.0      0  \n",
       "1          4.0      0  \n",
       "2          0.0      1  \n",
       "3          0.0      0  \n",
       "4          1.0      0  \n",
       "\n",
       "[5 rows x 383 columns]"
      ]
     },
     "execution_count": 89,
     "metadata": {},
     "output_type": "execute_result"
    }
   ],
   "source": [
    "kmeans = KMeans(n_clusters=3, random_state=0)\n",
    "kmeans.fit(scaled)\n",
    "pred['kmean'] = kmeans.labels_\n",
    "pred.head()"
   ]
  },
  {
   "cell_type": "code",
   "execution_count": 90,
   "metadata": {},
   "outputs": [
    {
     "data": {
      "text/plain": [
       "0    74\n",
       "1    24\n",
       "2     2\n",
       "Name: kmean, dtype: int64"
      ]
     },
     "execution_count": 90,
     "metadata": {},
     "output_type": "execute_result"
    }
   ],
   "source": [
    "pred['kmean'].value_counts()"
   ]
  },
  {
   "cell_type": "markdown",
   "metadata": {},
   "source": [
    "Calculate Silhouette Score"
   ]
  },
  {
   "cell_type": "code",
   "execution_count": 91,
   "metadata": {},
   "outputs": [
    {
     "data": {
      "text/plain": [
       "0.4693456154734884"
      ]
     },
     "execution_count": 91,
     "metadata": {},
     "output_type": "execute_result"
    }
   ],
   "source": [
    "metrics.silhouette_score(scaled, kmeans.labels_)"
   ]
  },
  {
   "cell_type": "markdown",
   "metadata": {},
   "source": [
    "<h4 style=\"color:red;\">Task 10 : Perform Elbow Analysis  </h4> "
   ]
  },
  {
   "cell_type": "code",
   "execution_count": 92,
   "metadata": {},
   "outputs": [],
   "source": [
    "from scipy.spatial.distance import cdist"
   ]
  },
  {
   "cell_type": "code",
   "execution_count": 93,
   "metadata": {},
   "outputs": [],
   "source": [
    "cost = []\n",
    "\n",
    "K = range(1,16)\n",
    "for k in K:\n",
    "    kmeanModel = KMeans(n_clusters=k).fit(scaled)\n",
    "    cost.append(sum(np.min(cdist(scaled, kmeanModel.cluster_centers_, 'euclidean'), axis=1)) / scaled.shape[0])"
   ]
  },
  {
   "cell_type": "markdown",
   "metadata": {},
   "source": [
    "<h4 style=\"color:red;\">Task 11 : Perform Kmean Clustering with best fit k obtained by Elbow Analysis  </h4> "
   ]
  },
  {
   "cell_type": "code",
   "execution_count": 94,
   "metadata": {},
   "outputs": [
    {
     "data": {
      "image/png": "[encoded data removed]",
      "text/plain": [
       "<Figure size 1080x432 with 1 Axes>"
      ]
     },
     "metadata": {
      "needs_background": "light"
     },
     "output_type": "display_data"
    }
   ],
   "source": [
    "plt.figure(figsize=(15,6))\n",
    "sns.set_context('poster')\n",
    "plt.plot(K, cost, 'bx-')\n",
    "plt.xlabel('k')\n",
    "plt.ylabel('Cost')\n",
    "plt.title('The Elbow Method showing the optimal k')\n",
    "plt.show()"
   ]
  },
  {
   "cell_type": "code",
   "execution_count": 95,
   "metadata": {},
   "outputs": [
    {
     "data": {
      "text/html": [
       "<div>\n",
       "<style scoped>\n",
       "    .dataframe tbody tr th:only-of-type {\n",
       "        vertical-align: middle;\n",
       "    }\n",
       "\n",
       "    .dataframe tbody tr th {\n",
       "        vertical-align: top;\n",
       "    }\n",
       "\n",
       "    .dataframe thead th {\n",
       "        text-align: right;\n",
       "    }\n",
       "</style>\n",
       "<table border=\"1\" class=\"dataframe\">\n",
       "  <thead>\n",
       "    <tr style=\"text-align: right;\">\n",
       "      <th></th>\n",
       "      <th>Customer ID</th>\n",
       "      <th>U_OB_VC_CNT_T6</th>\n",
       "      <th>U_OB_VC_CC_CNT_T6</th>\n",
       "      <th>U_OB_VC_DUR_T6</th>\n",
       "      <th>U_OB_VC_REV_T6</th>\n",
       "      <th>U_OB_DAY_VC_CNT_T6</th>\n",
       "      <th>U_OB_DAY_VC_CC_CNT_T6</th>\n",
       "      <th>U_OB_DAY_VC_DUR_T6</th>\n",
       "      <th>U_OB_DAY_VC_REV_T6</th>\n",
       "      <th>U_OB_EVN_VC_CNT_T6</th>\n",
       "      <th>...</th>\n",
       "      <th>RECH_GT_1000_AMT_T6</th>\n",
       "      <th>RECH_GT_1000_CNT_T6</th>\n",
       "      <th>RECEIVE_AMT_T6</th>\n",
       "      <th>RECEIVE_CNT_T6</th>\n",
       "      <th>SHARE_AMT_T6</th>\n",
       "      <th>SHARE_CNT_T6</th>\n",
       "      <th>LOAN_AMT_T6</th>\n",
       "      <th>LOAN_CNT_T6</th>\n",
       "      <th>kmean</th>\n",
       "      <th>kmean2</th>\n",
       "    </tr>\n",
       "  </thead>\n",
       "  <tbody>\n",
       "    <tr>\n",
       "      <th>0</th>\n",
       "      <td>1</td>\n",
       "      <td>157</td>\n",
       "      <td>88</td>\n",
       "      <td>379.0</td>\n",
       "      <td>230.070</td>\n",
       "      <td>103</td>\n",
       "      <td>62</td>\n",
       "      <td>207.0</td>\n",
       "      <td>128.794</td>\n",
       "      <td>51</td>\n",
       "      <td>...</td>\n",
       "      <td>0.0</td>\n",
       "      <td>0.0</td>\n",
       "      <td>0.000</td>\n",
       "      <td>0.0</td>\n",
       "      <td>0.0</td>\n",
       "      <td>0.0</td>\n",
       "      <td>45.0</td>\n",
       "      <td>3.0</td>\n",
       "      <td>0</td>\n",
       "      <td>0</td>\n",
       "    </tr>\n",
       "    <tr>\n",
       "      <th>1</th>\n",
       "      <td>2</td>\n",
       "      <td>41</td>\n",
       "      <td>38</td>\n",
       "      <td>132.5</td>\n",
       "      <td>137.276</td>\n",
       "      <td>17</td>\n",
       "      <td>14</td>\n",
       "      <td>65.0</td>\n",
       "      <td>77.824</td>\n",
       "      <td>23</td>\n",
       "      <td>...</td>\n",
       "      <td>0.0</td>\n",
       "      <td>0.0</td>\n",
       "      <td>25.523</td>\n",
       "      <td>1.0</td>\n",
       "      <td>0.0</td>\n",
       "      <td>0.0</td>\n",
       "      <td>60.0</td>\n",
       "      <td>4.0</td>\n",
       "      <td>0</td>\n",
       "      <td>0</td>\n",
       "    </tr>\n",
       "    <tr>\n",
       "      <th>2</th>\n",
       "      <td>3</td>\n",
       "      <td>321</td>\n",
       "      <td>185</td>\n",
       "      <td>274.5</td>\n",
       "      <td>98.422</td>\n",
       "      <td>249</td>\n",
       "      <td>150</td>\n",
       "      <td>204.0</td>\n",
       "      <td>49.151</td>\n",
       "      <td>69</td>\n",
       "      <td>...</td>\n",
       "      <td>0.0</td>\n",
       "      <td>0.0</td>\n",
       "      <td>0.000</td>\n",
       "      <td>0.0</td>\n",
       "      <td>0.0</td>\n",
       "      <td>0.0</td>\n",
       "      <td>0.0</td>\n",
       "      <td>0.0</td>\n",
       "      <td>1</td>\n",
       "      <td>1</td>\n",
       "    </tr>\n",
       "    <tr>\n",
       "      <th>3</th>\n",
       "      <td>4</td>\n",
       "      <td>11</td>\n",
       "      <td>6</td>\n",
       "      <td>172.5</td>\n",
       "      <td>7.587</td>\n",
       "      <td>1</td>\n",
       "      <td>1</td>\n",
       "      <td>2.0</td>\n",
       "      <td>0.149</td>\n",
       "      <td>10</td>\n",
       "      <td>...</td>\n",
       "      <td>0.0</td>\n",
       "      <td>0.0</td>\n",
       "      <td>0.000</td>\n",
       "      <td>0.0</td>\n",
       "      <td>0.0</td>\n",
       "      <td>0.0</td>\n",
       "      <td>0.0</td>\n",
       "      <td>0.0</td>\n",
       "      <td>0</td>\n",
       "      <td>0</td>\n",
       "    </tr>\n",
       "    <tr>\n",
       "      <th>4</th>\n",
       "      <td>5</td>\n",
       "      <td>313</td>\n",
       "      <td>220</td>\n",
       "      <td>2888.0</td>\n",
       "      <td>52.915</td>\n",
       "      <td>170</td>\n",
       "      <td>131</td>\n",
       "      <td>791.0</td>\n",
       "      <td>29.699</td>\n",
       "      <td>132</td>\n",
       "      <td>...</td>\n",
       "      <td>0.0</td>\n",
       "      <td>0.0</td>\n",
       "      <td>0.000</td>\n",
       "      <td>0.0</td>\n",
       "      <td>0.0</td>\n",
       "      <td>0.0</td>\n",
       "      <td>15.0</td>\n",
       "      <td>1.0</td>\n",
       "      <td>0</td>\n",
       "      <td>0</td>\n",
       "    </tr>\n",
       "  </tbody>\n",
       "</table>\n",
       "<p>5 rows × 384 columns</p>\n",
       "</div>"
      ],
      "text/plain": [
       "   Customer ID  U_OB_VC_CNT_T6  U_OB_VC_CC_CNT_T6  U_OB_VC_DUR_T6  \\\n",
       "0            1             157                 88           379.0   \n",
       "1            2              41                 38           132.5   \n",
       "2            3             321                185           274.5   \n",
       "3            4              11                  6           172.5   \n",
       "4            5             313                220          2888.0   \n",
       "\n",
       "   U_OB_VC_REV_T6  U_OB_DAY_VC_CNT_T6  U_OB_DAY_VC_CC_CNT_T6  \\\n",
       "0         230.070                 103                     62   \n",
       "1         137.276                  17                     14   \n",
       "2          98.422                 249                    150   \n",
       "3           7.587                   1                      1   \n",
       "4          52.915                 170                    131   \n",
       "\n",
       "   U_OB_DAY_VC_DUR_T6  U_OB_DAY_VC_REV_T6  U_OB_EVN_VC_CNT_T6   ...    \\\n",
       "0               207.0             128.794                  51   ...     \n",
       "1                65.0              77.824                  23   ...     \n",
       "2               204.0              49.151                  69   ...     \n",
       "3                 2.0               0.149                  10   ...     \n",
       "4               791.0              29.699                 132   ...     \n",
       "\n",
       "   RECH_GT_1000_AMT_T6  RECH_GT_1000_CNT_T6  RECEIVE_AMT_T6  RECEIVE_CNT_T6  \\\n",
       "0                  0.0                  0.0           0.000             0.0   \n",
       "1                  0.0                  0.0          25.523             1.0   \n",
       "2                  0.0                  0.0           0.000             0.0   \n",
       "3                  0.0                  0.0           0.000             0.0   \n",
       "4                  0.0                  0.0           0.000             0.0   \n",
       "\n",
       "   SHARE_AMT_T6  SHARE_CNT_T6  LOAN_AMT_T6  LOAN_CNT_T6  kmean  kmean2  \n",
       "0           0.0           0.0         45.0          3.0      0       0  \n",
       "1           0.0           0.0         60.0          4.0      0       0  \n",
       "2           0.0           0.0          0.0          0.0      1       1  \n",
       "3           0.0           0.0          0.0          0.0      0       0  \n",
       "4           0.0           0.0         15.0          1.0      0       0  \n",
       "\n",
       "[5 rows x 384 columns]"
      ]
     },
     "execution_count": 95,
     "metadata": {},
     "output_type": "execute_result"
    }
   ],
   "source": [
    "kmeans2 = KMeans(n_clusters=4, random_state=0)\n",
    "kmeans2.fit(scaled)\n",
    "pred['kmean2'] = kmeans2.labels_\n",
    "pred.head()"
   ]
  },
  {
   "cell_type": "code",
   "execution_count": 96,
   "metadata": {},
   "outputs": [
    {
     "data": {
      "text/plain": [
       "0    70\n",
       "1    26\n",
       "3     2\n",
       "2     2\n",
       "Name: kmean2, dtype: int64"
      ]
     },
     "execution_count": 96,
     "metadata": {},
     "output_type": "execute_result"
    }
   ],
   "source": [
    "pred['kmean2'].value_counts()"
   ]
  },
  {
   "cell_type": "markdown",
   "metadata": {},
   "source": [
    "#### Calculate Silhouette Score"
   ]
  },
  {
   "cell_type": "code",
   "execution_count": 97,
   "metadata": {},
   "outputs": [
    {
     "data": {
      "text/plain": [
       "0.4693456154734884"
      ]
     },
     "execution_count": 97,
     "metadata": {},
     "output_type": "execute_result"
    }
   ],
   "source": [
    "metrics.silhouette_score(scaled, kmeans.labels_)"
   ]
  },
  {
   "cell_type": "markdown",
   "metadata": {},
   "source": [
    "<h4 style=\"color:red;\">Task 12 : Do profiling with clusters and make radar and snake plot only on GPRS, CALL, SMS, RECHARGE </h4> "
   ]
  },
  {
   "cell_type": "code",
   "execution_count": 98,
   "metadata": {},
   "outputs": [
    {
     "data": {
      "text/html": [
       "<div>\n",
       "<style scoped>\n",
       "    .dataframe tbody tr th:only-of-type {\n",
       "        vertical-align: middle;\n",
       "    }\n",
       "\n",
       "    .dataframe tbody tr th {\n",
       "        vertical-align: top;\n",
       "    }\n",
       "\n",
       "    .dataframe thead th {\n",
       "        text-align: right;\n",
       "    }\n",
       "</style>\n",
       "<table border=\"1\" class=\"dataframe\">\n",
       "  <thead>\n",
       "    <tr style=\"text-align: right;\">\n",
       "      <th></th>\n",
       "      <th>kmean2</th>\n",
       "      <th>U_OB_VC_CNT_T6</th>\n",
       "      <th>U_OB_SMS_CNT_T6</th>\n",
       "      <th>U_GPRS_VOL_T6</th>\n",
       "      <th>RECH_CNT_T6</th>\n",
       "    </tr>\n",
       "  </thead>\n",
       "  <tbody>\n",
       "    <tr>\n",
       "      <th>0</th>\n",
       "      <td>0</td>\n",
       "      <td>113.557143</td>\n",
       "      <td>108.328571</td>\n",
       "      <td>3.804321e+04</td>\n",
       "      <td>3.742857</td>\n",
       "    </tr>\n",
       "    <tr>\n",
       "      <th>1</th>\n",
       "      <td>1</td>\n",
       "      <td>442.423077</td>\n",
       "      <td>61.423077</td>\n",
       "      <td>4.170212e+04</td>\n",
       "      <td>10.115385</td>\n",
       "    </tr>\n",
       "    <tr>\n",
       "      <th>2</th>\n",
       "      <td>2</td>\n",
       "      <td>213.000000</td>\n",
       "      <td>112.000000</td>\n",
       "      <td>6.801142e+06</td>\n",
       "      <td>7.000000</td>\n",
       "    </tr>\n",
       "    <tr>\n",
       "      <th>3</th>\n",
       "      <td>3</td>\n",
       "      <td>163.500000</td>\n",
       "      <td>4591.500000</td>\n",
       "      <td>0.000000e+00</td>\n",
       "      <td>7.500000</td>\n",
       "    </tr>\n",
       "  </tbody>\n",
       "</table>\n",
       "</div>"
      ],
      "text/plain": [
       "   kmean2  U_OB_VC_CNT_T6  U_OB_SMS_CNT_T6  U_GPRS_VOL_T6  RECH_CNT_T6\n",
       "0       0      113.557143       108.328571   3.804321e+04     3.742857\n",
       "1       1      442.423077        61.423077   4.170212e+04    10.115385\n",
       "2       2      213.000000       112.000000   6.801142e+06     7.000000\n",
       "3       3      163.500000      4591.500000   0.000000e+00     7.500000"
      ]
     },
     "execution_count": 98,
     "metadata": {},
     "output_type": "execute_result"
    }
   ],
   "source": [
    "p_ = pred[['U_OB_VC_CNT_T6', 'U_OB_SMS_CNT_T6', 'U_GPRS_VOL_T6', 'RECH_CNT_T6', 'kmean2']]\n",
    "pivoted = p_.groupby('kmean2')['U_OB_VC_CNT_T6', 'U_OB_SMS_CNT_T6', 'U_GPRS_VOL_T6', 'RECH_CNT_T6'].mean().reset_index()\n",
    "pivoted\n"
   ]
  },
  {
   "cell_type": "code",
   "execution_count": 99,
   "metadata": {},
   "outputs": [],
   "source": [
    "radar_data = [\n",
    "    go.Scatterpolar(\n",
    "      r = list(pivoted.loc[0,['U_OB_VC_CNT_T6', 'U_OB_SMS_CNT_T6', 'U_GPRS_VOL_T6', 'RECH_CNT_T6']]),\n",
    "      theta = ['U_OB_VC_CNT_T6', 'U_OB_SMS_CNT_T6', 'U_GPRS_VOL_T6', 'RECH_CNT_T6'],\n",
    "      fill = 'tonext',\n",
    "      fillcolor=None,\n",
    "      name = 'Cluster 0'\n",
    "    ),\n",
    "    go.Scatterpolar(\n",
    "      r = list(pivoted.loc[1,['U_OB_VC_CNT_T6', 'U_OB_SMS_CNT_T6', 'U_GPRS_VOL_T6', 'RECH_CNT_T6']]),\n",
    "      theta = ['U_OB_VC_CNT_T6', 'U_OB_SMS_CNT_T6', 'U_GPRS_VOL_T6', 'RECH_CNT_T6'],\n",
    "      fill = 'tonext',\n",
    "      fillcolor=None,\n",
    "      name = 'Cluster 1' ),\n",
    "    go.Scatterpolar(\n",
    "      r = list(pivoted.loc[2,['U_OB_VC_CNT_T6', 'U_OB_SMS_CNT_T6', 'U_GPRS_VOL_T6', 'RECH_CNT_T6']]),\n",
    "      theta = ['U_OB_VC_CNT_T6', 'U_OB_SMS_CNT_T6', 'U_GPRS_VOL_T6', 'RECH_CNT_T6'],\n",
    "      fill = 'tonext',\n",
    "      fillcolor=None,\n",
    "      name = 'Cluster 2'\n",
    "    ),\n",
    "     go.Scatterpolar(\n",
    "      r = list(pivoted.loc[3,['U_OB_VC_CNT_T6', 'U_OB_SMS_CNT_T6', 'U_GPRS_VOL_T6', 'RECH_CNT_T6']]),\n",
    "      theta = ['U_OB_VC_CNT_T6', 'U_OB_SMS_CNT_T6', 'U_GPRS_VOL_T6', 'RECH_CNT_T6'],\n",
    "      fill = 'tonext',\n",
    "      fillcolor=None,\n",
    "      name = 'Cluster 3'\n",
    "    ),\n",
    "]"
   ]
  },
  {
   "cell_type": "code",
   "execution_count": 100,
   "metadata": {},
   "outputs": [],
   "source": [
    "radar_layout = go.Layout(polar = dict(radialaxis = dict(visible = True,range = [0, 12000])), showlegend = True)"
   ]
  },
  {
   "cell_type": "code",
   "execution_count": 101,
   "metadata": {},
   "outputs": [
    {
     "name": "stdout",
     "output_type": "stream",
     "text": [
      "High five! You successfully sent some data to your account on plotly. View your plot in your browser at https://plot.ly/~salman1127/0 or inside your plot.ly account where it is named 'radar'\n"
     ]
    },
    {
     "data": {
      "text/html": [
       "<iframe id=\"igraph\" scrolling=\"no\" style=\"border:none;\" seamless=\"seamless\" src=\"https://plot.ly/~salman1127/0.embed\" height=\"525px\" width=\"100%\"></iframe>"
      ],
      "text/plain": [
       "<plotly.tools.PlotlyDisplay object>"
      ]
     },
     "execution_count": 101,
     "metadata": {},
     "output_type": "execute_result"
    }
   ],
   "source": [
    "fig = go.Figure(data=radar_data, layout=radar_layout)\n",
    "py.iplot(fig, filename = \"radar\")"
   ]
  },
  {
   "cell_type": "code",
   "execution_count": 102,
   "metadata": {},
   "outputs": [
    {
     "data": {
      "image/png": "[encoded data removed]",
      "text/plain": [
       "<Figure size 1080x432 with 1 Axes>"
      ]
     },
     "metadata": {
      "needs_background": "light"
     },
     "output_type": "display_data"
    }
   ],
   "source": [
    "plt.figure(figsize=(15,6))\n",
    "sns.set_context('poster')\n",
    "plt.plot(pivoted['kmean2'], pivoted['U_OB_VC_CNT_T6']);\n",
    "plt.plot(pivoted['kmean2'], pivoted['U_OB_SMS_CNT_T6']);\n",
    "plt.plot(pivoted['kmean2'], pivoted['U_GPRS_VOL_T6']);\n",
    "plt.plot(pivoted['kmean2'], pivoted['RECH_CNT_T6']);\n",
    "plt.xlabel('Cluster');\n",
    "plt.ylabel('Values');\n",
    "plt.title('Snake Plot for profiling of clusters');\n",
    "plt.legend();"
   ]
  },
  {
   "cell_type": "code",
   "execution_count": null,
   "metadata": {},
   "outputs": [],
   "source": []
  },
  {
   "cell_type": "code",
   "execution_count": null,
   "metadata": {},
   "outputs": [],
   "source": []
  }
 ],
 "metadata": {
  "kernelspec": {
   "display_name": "Python 3",
   "language": "python",
   "name": "python3"
  },
  "language_info": {
   "codemirror_mode": {
    "name": "ipython",
    "version": 3
   },
   "file_extension": ".py",
   "mimetype": "text/x-python",
   "name": "python",
   "nbconvert_exporter": "python",
   "pygments_lexer": "ipython3",
   "version": "3.7.0"
  }
 },
 "nbformat": 4,
 "nbformat_minor": 2
}
